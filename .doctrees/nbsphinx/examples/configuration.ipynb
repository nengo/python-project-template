{
 "cells": [
  {
   "cell_type": "markdown",
   "metadata": {},
   "source": [
    "# Configuration options\n",
    "\n",
    "All NengoBones configuration is done through the `.nengobones.yml` file. In this\n",
    "notebook we will demonstrate the different configuration options available and how to\n",
    "use them to customize behaviour for different use cases.\n",
    "\n",
    "First we'll define some utility functions we'll use throughout this notebook:"
   ]
  },
  {
   "cell_type": "code",
   "execution_count": 1,
   "metadata": {
    "execution": {
     "iopub.execute_input": "2021-06-29T19:19:30.203529Z",
     "iopub.status.busy": "2021-06-29T19:19:30.202492Z",
     "iopub.status.idle": "2021-06-29T19:19:30.335596Z",
     "shell.execute_reply": "2021-06-29T19:19:30.335025Z"
    }
   },
   "outputs": [],
   "source": [
    "from importlib import reload\n",
    "import pathlib\n",
    "\n",
    "import nengo_bones\n",
    "\n",
    "\n",
    "def write_yml(contents):\n",
    "    \"\"\"Create a sample .nengo.yml file from a string.\"\"\"\n",
    "\n",
    "    nengo_yml = \"project_name: Example Project\\n\"\n",
    "    nengo_yml += \"pkg_name: eg_package\\n\"\n",
    "    nengo_yml += \"repo_name: eg-org/eg-package\\n\"\n",
    "    nengo_yml += contents\n",
    "\n",
    "    with open(\".nengobones.yml\", \"w\") as f:\n",
    "        f.write(nengo_yml)\n",
    "\n",
    "\n",
    "def display_contents(filename, sections=None):\n",
    "    \"\"\"\n",
    "    Display the contents of a file.\n",
    "\n",
    "    The 'sections' argument filters the file to show only the\n",
    "    specified sections.\n",
    "    \"\"\"\n",
    "\n",
    "    with open(filename) as f:\n",
    "        data = f.readlines()\n",
    "\n",
    "    # strip out blank lines for .sh and .yml files\n",
    "    if filename.endswith(\".sh\") or filename.endswith(\".yml\"):\n",
    "        data = [x for x in data if x.strip() != \"\"]\n",
    "\n",
    "    if sections is None:\n",
    "        display_data = data\n",
    "    else:\n",
    "        # pull out only the requested sections\n",
    "        display_data = []\n",
    "        for sec in sections:\n",
    "            for i, line in enumerate(data):\n",
    "                if '\"$COMMAND\" == \"%s\"' % sec in line or line.startswith(sec):\n",
    "                    section_data = data[i:]\n",
    "                    break\n",
    "            for i, line in enumerate(section_data[1:]):\n",
    "                if filename.endswith(\".cfg\"):\n",
    "                    if line.startswith(\"[\"):\n",
    "                        section_data = section_data[: i + 1]\n",
    "                        break\n",
    "                else:\n",
    "                    if not line.startswith(\" \"):\n",
    "                        section_data = section_data[: i + 1]\n",
    "                        break\n",
    "            display_data.extend(section_data)\n",
    "\n",
    "    print(\"\".join(display_data).rstrip(\"\\n\"))"
   ]
  },
  {
   "cell_type": "markdown",
   "metadata": {},
   "source": [
    "## General options\n",
    "\n",
    "There are a few general configuration options that affect multiple templated files:\n",
    "\n",
    "- `project_name`: Natural-language name for the project (e.g., \"NengoBones\").\n",
    "- `pkg_name`: Import name for the project (e.g., \"nengo_bones\").\n",
    "- `repo_name`: Github organization/repository name (e.g., \"nengo/nengo-bones\").\n",
    "- `author`: Name of project author (defaults to \"Applied Brain Research\").\n",
    "- `author_email`: Email of project author (defaults to \"info@appliedbrainresearch.com\").\n",
    "- `description`: A brief, one-sentence description of the project.\n",
    "- `copyright_start`: The year the project was first publicly available (defaults to\n",
    "  current year).\n",
    "- `copyright_end`: The last year work was done on the project (defaults to current\n",
    "  year).\n",
    "- `min_python`: Minimum Python version (defaults to \"3.6\").\n",
    "- `main_branch`: Main `git` branch (defaults to `\"master\"`)."
   ]
  },
  {
   "cell_type": "markdown",
   "metadata": {},
   "source": [
    "## CI scripts\n",
    "\n",
    "NengoBones uses a continuous integration (CI) setup wherein build jobs are associated\n",
    "with different shell scripts, and each script defines commands to be executed at\n",
    "different stages during the build process. These scripts are configured through the\n",
    "`ci_scripts` section of `.nengobones.yml`. The basic step is to add an entry with\n",
    "`- template: scriptname` for each script template that we want to be rendered. As an\n",
    "example, in this section we will use the \"test\" template, but all the options we\n",
    "describe here work for any of the templated scripts.\n",
    "\n",
    "Normally the `.nengobones.yml` file is a text file sitting in the root directory of the\n",
    "repository. For demonstration purposes, in this notebook we will be generating different\n",
    "config files on-the-fly using the utility functions from above."
   ]
  },
  {
   "cell_type": "code",
   "execution_count": 2,
   "metadata": {
    "execution": {
     "iopub.execute_input": "2021-06-29T19:19:30.340537Z",
     "iopub.status.busy": "2021-06-29T19:19:30.339761Z",
     "iopub.status.idle": "2021-06-29T19:19:30.697935Z",
     "shell.execute_reply": "2021-06-29T19:19:30.698379Z"
    }
   },
   "outputs": [
    {
     "name": "stdout",
     "output_type": "stream",
     "text": [
      "#!/usr/bin/env bash\n",
      "# Automatically generated by nengo-bones, do not edit this file directly\n",
      "NAME=$0\n",
      "COMMAND=$1\n",
      "STATUS=0  # used to exit with non-zero status if any command fails\n",
      "exe() {\n",
      "    echo \"\\$ $*\";\n",
      "    args=( \"$@\" )\n",
      "    # remove empty spaces from args\n",
      "    for i in \"${!args[@]}\"; do\n",
      "      [ -n \"${args[$i]}\" ] || unset \"args[$i]\"\n",
      "    done\n",
      "    # put quotes around all arguments except the first. Also replace all \">\" with \"\\>\"\n",
      "    # since eval will treat \">\" as a pipe out to file.\n",
      "    for i in \"${!args[@]}\"; do\n",
      "      if [[ $i -gt 0 ]]; then\n",
      "        args[$i]='\"'${args[$i]//>/\\>}'\"'\n",
      "      fi\n",
      "    done\n",
      "    eval \"${args[@]}\" || { echo -e \"\\033[1;31mCOMMAND '${args[0]}' FAILED\\033[0m\"; STATUS=1; }\n",
      "}\n",
      "if [[ ! -e eg_package ]]; then\n",
      "    echo \"Run this script from the root directory of this repository\"\n",
      "    exit 1\n",
      "fi\n",
      "if [[ \"$COMMAND\" == \"install\" ]]; then\n",
      "    :\n",
      "    exe pip install \"pytest>=3.6.0\"\n",
      "    exe pip install \"pytest-xdist>=1.16.0\"\n",
      "    exe pip install -e \".[tests]\"\n",
      "elif [[ \"$COMMAND\" == \"before_script\" ]]; then\n",
      "    :\n",
      "elif [[ \"$COMMAND\" == \"script\" ]]; then\n",
      "    # shellcheck disable=SC2086\n",
      "    exe pytest eg_package -v -n 2 --color=yes --durations 20 $TEST_ARGS\n",
      "elif [[ \"$COMMAND\" == \"before_cache\" ]]; then\n",
      "    :\n",
      "elif [[ \"$COMMAND\" == \"after_success\" ]]; then\n",
      "    :\n",
      "elif [[ \"$COMMAND\" == \"after_failure\" ]]; then\n",
      "    :\n",
      "elif [[ \"$COMMAND\" == \"before_deploy\" ]]; then\n",
      "    :\n",
      "elif [[ \"$COMMAND\" == \"after_deploy\" ]]; then\n",
      "    :\n",
      "elif [[ \"$COMMAND\" == \"after_script\" ]]; then\n",
      "    :\n",
      "elif [[ -z \"$COMMAND\" ]]; then\n",
      "    echo \"$NAME requires a command like 'install' or 'script'\"\n",
      "else\n",
      "    echo \"$NAME does not define $COMMAND\"\n",
      "fi\n",
      "if [[ \"$COMMAND\" != \"script\" && -n \"$TRAVIS\" && \"$STATUS\" -ne \"0\" ]]; then\n",
      "    travis_terminate \"$STATUS\"\n",
      "fi\n",
      "exit \"$STATUS\"\n"
     ]
    }
   ],
   "source": [
    "nengobones_yml = \"\"\"\n",
    "ci_scripts:\n",
    "    - template: test\n",
    "\"\"\"\n",
    "# create .nengobones.yml file\n",
    "write_yml(nengobones_yml)\n",
    "# call the bones-generate script\n",
    "!bones-generate ci-scripts\n",
    "# display the contents of the generated file\n",
    "display_contents(\"test.sh\")"
   ]
  },
  {
   "cell_type": "markdown",
   "metadata": {},
   "source": [
    "There is a lot of information in that file that we don't really need to worry about\n",
    "(that's the whole point of NengoBones, to take care of those details for us). We can see\n",
    "that the overall structure is made up of behaviour defined for different build stages\n",
    "(e.g. \"install\", \"before_script\", etc.). In most cases all the important action happens\n",
    "in the \"install\" and \"script\" stages:"
   ]
  },
  {
   "cell_type": "code",
   "execution_count": 3,
   "metadata": {
    "execution": {
     "iopub.execute_input": "2021-06-29T19:19:30.703920Z",
     "iopub.status.busy": "2021-06-29T19:19:30.703329Z",
     "iopub.status.idle": "2021-06-29T19:19:30.706326Z",
     "shell.execute_reply": "2021-06-29T19:19:30.706721Z"
    }
   },
   "outputs": [
    {
     "name": "stdout",
     "output_type": "stream",
     "text": [
      "if [[ \"$COMMAND\" == \"install\" ]]; then\n",
      "    :\n",
      "    exe pip install \"pytest>=3.6.0\"\n",
      "    exe pip install \"pytest-xdist>=1.16.0\"\n",
      "    exe pip install -e \".[tests]\"\n",
      "elif [[ \"$COMMAND\" == \"script\" ]]; then\n",
      "    # shellcheck disable=SC2086\n",
      "    exe pytest eg_package -v -n 2 --color=yes --durations 20 $TEST_ARGS\n"
     ]
    }
   ],
   "source": [
    "display_contents(\"test.sh\", sections=[\"install\", \"script\"])"
   ]
  },
  {
   "cell_type": "markdown",
   "metadata": {},
   "source": [
    "In the \"install\" stage we install any of the package requirements needed to run the\n",
    "script. In this case we can see we're installing `pytest`, `pytest-xdist`, and the\n",
    "current package (including any optional dependencies defined in the `[tests]`\n",
    "`extra_requires` directive).\n",
    "\n",
    "If we need to add extra packages to this default installation, that can be done with the\n",
    "`pip_install` configuration option:"
   ]
  },
  {
   "cell_type": "code",
   "execution_count": 4,
   "metadata": {
    "execution": {
     "iopub.execute_input": "2021-06-29T19:19:30.711414Z",
     "iopub.status.busy": "2021-06-29T19:19:30.710656Z",
     "iopub.status.idle": "2021-06-29T19:19:31.064400Z",
     "shell.execute_reply": "2021-06-29T19:19:31.063882Z"
    }
   },
   "outputs": [
    {
     "name": "stdout",
     "output_type": "stream",
     "text": [
      "if [[ \"$COMMAND\" == \"install\" ]]; then\n",
      "    exe pip install \"an-extra-pip-package\"\n",
      "    exe pip install \"pytest>=3.6.0\"\n",
      "    exe pip install \"pytest-xdist>=1.16.0\"\n",
      "    exe pip install -e \".[tests]\"\n"
     ]
    }
   ],
   "source": [
    "nengobones_yml = \"\"\"\n",
    "ci_scripts:\n",
    "    - template: test\n",
    "      pip_install:\n",
    "          - an-extra-pip-package\n",
    "\"\"\"\n",
    "write_yml(nengobones_yml)\n",
    "!bones-generate ci-scripts\n",
    "display_contents(\"test.sh\", sections=[\"install\"])"
   ]
  },
  {
   "cell_type": "markdown",
   "metadata": {},
   "source": [
    "Note that requirements should generally be added to the package requirements defined in\n",
    "`setup.py` (in which case they would be automatically installed in the\n",
    "`pip install -e \".[tests]\"` step). That way anyone can easily install the necessary\n",
    "packages and run the tests without having to go through the CI scripts. The\n",
    "`pip_install` option is only necessary if that isn't feasible for some reason.\n",
    "\n",
    "The \"script\" stage is where the main work of the script is done. In the case of the\n",
    "\"test\" script, this means calling `pytest` to run the test suite:"
   ]
  },
  {
   "cell_type": "code",
   "execution_count": 5,
   "metadata": {
    "execution": {
     "iopub.execute_input": "2021-06-29T19:19:31.068871Z",
     "iopub.status.busy": "2021-06-29T19:19:31.067808Z",
     "iopub.status.idle": "2021-06-29T19:19:31.072269Z",
     "shell.execute_reply": "2021-06-29T19:19:31.071837Z"
    }
   },
   "outputs": [
    {
     "name": "stdout",
     "output_type": "stream",
     "text": [
      "elif [[ \"$COMMAND\" == \"script\" ]]; then\n",
      "    # shellcheck disable=SC2086\n",
      "    exe pytest eg_package -v -n 2 --color=yes --durations 20 $TEST_ARGS\n"
     ]
    }
   ],
   "source": [
    "display_contents(\"test.sh\", sections=[\"script\"])"
   ]
  },
  {
   "cell_type": "markdown",
   "metadata": {},
   "source": [
    "Ignore the `$TEST_ARGS` part for now. We will cover that when we come to the\n",
    "`.travis.yml` configuration.\n",
    "\n",
    "As with the \"install\" stage, the \"script\" stage can also be customized if we want to add\n",
    "extra commands, either before or after the main script body:"
   ]
  },
  {
   "cell_type": "code",
   "execution_count": 6,
   "metadata": {
    "execution": {
     "iopub.execute_input": "2021-06-29T19:19:31.076826Z",
     "iopub.status.busy": "2021-06-29T19:19:31.076102Z",
     "iopub.status.idle": "2021-06-29T19:19:31.431706Z",
     "shell.execute_reply": "2021-06-29T19:19:31.432099Z"
    }
   },
   "outputs": [
    {
     "name": "stdout",
     "output_type": "stream",
     "text": [
      "elif [[ \"$COMMAND\" == \"script\" ]]; then\n",
      "    exe echo \"this command will run at the beginning\"\n",
      "    # shellcheck disable=SC2086\n",
      "    exe pytest eg_package -v -n 2 --color=yes --durations 20 $TEST_ARGS\n",
      "    exe echo \"this command will run at the end\"\n"
     ]
    }
   ],
   "source": [
    "nengobones_yml = \"\"\"\n",
    "ci_scripts:\n",
    "    - template: test\n",
    "      pre_commands:\n",
    "          - echo \"this command will run at the beginning\"\n",
    "      post_commands:\n",
    "          - echo \"this command will run at the end\"\n",
    "\"\"\"\n",
    "write_yml(nengobones_yml)\n",
    "!bones-generate ci-scripts\n",
    "display_contents(\"test.sh\", sections=[\"script\"])"
   ]
  },
  {
   "cell_type": "markdown",
   "metadata": {},
   "source": [
    "We can also use the same template multiple times, passing different options to generate\n",
    "different output scripts. In this case we need to use the `output_name` config option to\n",
    "distinguish different rendered scripts:"
   ]
  },
  {
   "cell_type": "code",
   "execution_count": 7,
   "metadata": {
    "execution": {
     "iopub.execute_input": "2021-06-29T19:19:31.437656Z",
     "iopub.status.busy": "2021-06-29T19:19:31.437167Z",
     "iopub.status.idle": "2021-06-29T19:19:31.796513Z",
     "shell.execute_reply": "2021-06-29T19:19:31.797242Z"
    }
   },
   "outputs": [
    {
     "name": "stdout",
     "output_type": "stream",
     "text": [
      "Contents of test.sh\n",
      "-------------------\n",
      "elif [[ \"$COMMAND\" == \"script\" ]]; then\n",
      "    exe echo \"this is test\"\n",
      "    # shellcheck disable=SC2086\n",
      "    exe pytest eg_package -v -n 2 --color=yes --durations 20 $TEST_ARGS\n",
      "\n",
      "Contents of test2.sh\n",
      "--------------------\n",
      "elif [[ \"$COMMAND\" == \"script\" ]]; then\n",
      "    exe echo \"this is test2\"\n",
      "    # shellcheck disable=SC2086\n",
      "    exe pytest eg_package -v -n 2 --color=yes --durations 20 $TEST_ARGS\n"
     ]
    }
   ],
   "source": [
    "nengobones_yml = \"\"\"\n",
    "ci_scripts:\n",
    "    - template: test\n",
    "      pre_commands:\n",
    "          - echo \"this is test\"\n",
    "    - template: test\n",
    "      output_name: test2\n",
    "      pre_commands:\n",
    "          - echo \"this is test2\"\n",
    "\"\"\"\n",
    "write_yml(nengobones_yml)\n",
    "!bones-generate ci-scripts\n",
    "print(\"Contents of test.sh\")\n",
    "print(\"-------------------\")\n",
    "display_contents(\"test.sh\", sections=[\"script\"])\n",
    "print(\"\\nContents of test2.sh\")\n",
    "print(\"--------------------\")\n",
    "display_contents(\"test2.sh\", sections=[\"script\"])"
   ]
  },
  {
   "cell_type": "markdown",
   "metadata": {},
   "source": [
    "### Test script options\n",
    "\n",
    "The \"test\" script has some configuration options specific to that script. First, we can\n",
    "collect coverage information while tests are running by setting `coverage: true`:"
   ]
  },
  {
   "cell_type": "code",
   "execution_count": 8,
   "metadata": {
    "execution": {
     "iopub.execute_input": "2021-06-29T19:19:31.801995Z",
     "iopub.status.busy": "2021-06-29T19:19:31.801508Z",
     "iopub.status.idle": "2021-06-29T19:19:32.157627Z",
     "shell.execute_reply": "2021-06-29T19:19:32.156771Z"
    }
   },
   "outputs": [
    {
     "name": "stdout",
     "output_type": "stream",
     "text": [
      "if [[ \"$COMMAND\" == \"install\" ]]; then\n",
      "    :\n",
      "    exe pip install \"pytest>=3.6.0\"\n",
      "    exe pip install \"pytest-xdist>=1.16.0\"\n",
      "    exe pip install \"pytest-cov>=2.6.0\"\n",
      "    exe pip install -e \".[tests]\"\n",
      "elif [[ \"$COMMAND\" == \"script\" ]]; then\n",
      "    # shellcheck disable=SC2086\n",
      "    exe pytest eg_package -v -n 2 --color=yes --durations 20 --cov=eg_package --cov-report=term-missing $TEST_ARGS\n",
      "elif [[ \"$COMMAND\" == \"after_script\" ]]; then\n",
      "    exe eval \"bash <(curl -s https://codecov.io/bash)\"\n"
     ]
    }
   ],
   "source": [
    "nengobones_yml = \"\"\"\n",
    "ci_scripts:\n",
    "    - template: test\n",
    "      coverage: true\n",
    "\"\"\"\n",
    "write_yml(nengobones_yml)\n",
    "!bones-generate ci-scripts\n",
    "display_contents(\"test.sh\", sections=[\"install\", \"script\", \"after_script\"])"
   ]
  },
  {
   "cell_type": "markdown",
   "metadata": {},
   "source": [
    "Note that the script is now installing extra packages, adding extra arguments to\n",
    "`pytest`, and uploading the results to [Codecov](https://codecov.io/) at the end.\n",
    "\n",
    "Nengo backends also often want to run the core Nengo tests in addition to their own test\n",
    "suite. This can be accomplished by setting `nengo_tests: true`:"
   ]
  },
  {
   "cell_type": "code",
   "execution_count": 9,
   "metadata": {
    "execution": {
     "iopub.execute_input": "2021-06-29T19:19:32.166204Z",
     "iopub.status.busy": "2021-06-29T19:19:32.161712Z",
     "iopub.status.idle": "2021-06-29T19:19:32.517307Z",
     "shell.execute_reply": "2021-06-29T19:19:32.517702Z"
    }
   },
   "outputs": [
    {
     "name": "stdout",
     "output_type": "stream",
     "text": [
      "elif [[ \"$COMMAND\" == \"script\" ]]; then\n",
      "    # shellcheck disable=SC2086\n",
      "    exe pytest eg_package -v -n 2 --color=yes --durations 20 $TEST_ARGS\n",
      "    # shellcheck disable=SC2086\n",
      "    exe pytest --pyargs nengo -v -n 2 --color=yes --durations 20 $TEST_ARGS\n"
     ]
    }
   ],
   "source": [
    "nengobones_yml = \"\"\"\n",
    "ci_scripts:\n",
    "    - template: test\n",
    "      nengo_tests: true\n",
    "\"\"\"\n",
    "write_yml(nengobones_yml)\n",
    "!bones-generate ci-scripts\n",
    "display_contents(\"test.sh\", sections=[\"script\"])"
   ]
  },
  {
   "cell_type": "markdown",
   "metadata": {},
   "source": [
    "## TravisCI config\n",
    "\n",
    "As mentioned above, the general idea is that TravisCI will create a number of build\n",
    "jobs, and each job will call one of the scripts we generated. TravisCI is configured\n",
    "through its own `.travis.yml` file, so what we will be doing is using `.nengobones.yml`\n",
    "to generate `.travis.yml`. This is done through the `travis_yml` section:"
   ]
  },
  {
   "cell_type": "code",
   "execution_count": 10,
   "metadata": {
    "execution": {
     "iopub.execute_input": "2021-06-29T19:19:32.522440Z",
     "iopub.status.busy": "2021-06-29T19:19:32.521968Z",
     "iopub.status.idle": "2021-06-29T19:19:32.878043Z",
     "shell.execute_reply": "2021-06-29T19:19:32.877612Z"
    }
   },
   "outputs": [
    {
     "name": "stdout",
     "output_type": "stream",
     "text": [
      "# Automatically generated by nengo-bones, do not edit this file directly\n",
      "language: python\n",
      "python: 3.6\n",
      "notifications:\n",
      "  email:\n",
      "    on_success: change\n",
      "    on_failure: change\n",
      "cache: pip\n",
      "dist: xenial\n",
      "env:\n",
      "  global:\n",
      "    - SCRIPT=\"test\"\n",
      "    - TEST_ARGS=\"\"\n",
      "    - BRANCH_NAME=\"${TRAVIS_PULL_REQUEST_BRANCH:-$TRAVIS_BRANCH}\"\n",
      "jobs:\n",
      "  include:\n",
      "before_install:\n",
      "  # export travis_terminate for use in scripts, from here:\n",
      "  # https://github.com/travis-ci/travis-build/blob/master/lib/travis/build/bash/travis_terminate.bash\n",
      "  - export -f travis_terminate\n",
      "    _travis_terminate_agent\n",
      "    _travis_terminate_freebsd\n",
      "    _travis_terminate_linux\n",
      "    _travis_terminate_osx\n",
      "    _travis_terminate_unix\n",
      "    _travis_terminate_windows\n",
      "  # upgrade pip\n",
      "  - pip install pip --upgrade\n",
      "  # install/run nengo-bones\n",
      "  - pip install git+https://github.com/nengo/nengo-bones#egg=nengo-bones\n",
      "  - bones-generate --output-dir .ci ci-scripts\n",
      "  - bones-check --verbose\n",
      "  # display environment info\n",
      "  - pip freeze\n",
      "install:\n",
      "  - .ci/$SCRIPT.sh install\n",
      "  - pip freeze\n",
      "before_script:\n",
      "  - .ci/$SCRIPT.sh before_script\n",
      "script:\n",
      "  - .ci/$SCRIPT.sh script\n",
      "before_cache:\n",
      "  - .ci/$SCRIPT.sh before_cache\n",
      "after_success:\n",
      "  - .ci/$SCRIPT.sh after_success\n",
      "after_failure:\n",
      "  - .ci/$SCRIPT.sh after_failure\n",
      "before_deploy:\n",
      "  - .ci/$SCRIPT.sh before_deploy\n",
      "after_deploy:\n",
      "  - .ci/$SCRIPT.sh after_deploy\n",
      "after_script:\n",
      "  - .ci/$SCRIPT.sh after_script\n"
     ]
    }
   ],
   "source": [
    "nengobones_yml = \"\"\"\n",
    "travis_yml:\n",
    "    jobs: []\n",
    "\"\"\"\n",
    "write_yml(nengobones_yml)\n",
    "!bones-generate travis-yml\n",
    "display_contents(\".travis.yml\")"
   ]
  },
  {
   "cell_type": "markdown",
   "metadata": {},
   "source": [
    "As before, there is a lot of detail here that we don't need to worry about because\n",
    "NengoBones will take care of it for us. The important part to understand is the overall\n",
    "structure."
   ]
  },
  {
   "cell_type": "markdown",
   "metadata": {},
   "source": [
    "### Global variables\n",
    "\n",
    "First, we create some global variables:"
   ]
  },
  {
   "cell_type": "code",
   "execution_count": 11,
   "metadata": {
    "execution": {
     "iopub.execute_input": "2021-06-29T19:19:32.887982Z",
     "iopub.status.busy": "2021-06-29T19:19:32.887392Z",
     "iopub.status.idle": "2021-06-29T19:19:32.891802Z",
     "shell.execute_reply": "2021-06-29T19:19:32.892537Z"
    }
   },
   "outputs": [
    {
     "name": "stdout",
     "output_type": "stream",
     "text": [
      "env:\n",
      "  global:\n",
      "    - SCRIPT=\"test\"\n",
      "    - TEST_ARGS=\"\"\n",
      "    - BRANCH_NAME=\"${TRAVIS_PULL_REQUEST_BRANCH:-$TRAVIS_BRANCH}\"\n"
     ]
    }
   ],
   "source": [
    "display_contents(\".travis.yml\", sections=[\"env\"])"
   ]
  },
  {
   "cell_type": "markdown",
   "metadata": {},
   "source": [
    "This shows the default variables. We can add arbitrary variables to this list through\n",
    "the `global_vars` option:"
   ]
  },
  {
   "cell_type": "code",
   "execution_count": 12,
   "metadata": {
    "execution": {
     "iopub.execute_input": "2021-06-29T19:19:32.897561Z",
     "iopub.status.busy": "2021-06-29T19:19:32.897049Z",
     "iopub.status.idle": "2021-06-29T19:19:33.323095Z",
     "shell.execute_reply": "2021-06-29T19:19:33.322587Z"
    }
   },
   "outputs": [
    {
     "name": "stdout",
     "output_type": "stream",
     "text": [
      "env:\n",
      "  global:\n",
      "    - SCRIPT=\"test\"\n",
      "    - TEST_ARGS=\"\"\n",
      "    - BRANCH_NAME=\"${TRAVIS_PULL_REQUEST_BRANCH:-$TRAVIS_BRANCH}\"\n",
      "    - VAR0=\"val0\"\n",
      "    - VAR1=\"val1\"\n"
     ]
    }
   ],
   "source": [
    "nengobones_yml = \"\"\"\n",
    "travis_yml:\n",
    "    global_vars:\n",
    "        VAR0: val0\n",
    "        VAR1: val1\n",
    "    jobs: []\n",
    "\"\"\"\n",
    "write_yml(nengobones_yml)\n",
    "!bones-generate travis-yml\n",
    "display_contents(\".travis.yml\", sections=[\"env\"])"
   ]
  },
  {
   "cell_type": "markdown",
   "metadata": {},
   "source": [
    "Note that these variables will be set in order, with later variables overwriting earlier\n",
    "ones. So if, for example, we wanted to change the default script, we could do that by\n",
    "setting:"
   ]
  },
  {
   "cell_type": "code",
   "execution_count": 13,
   "metadata": {
    "execution": {
     "iopub.execute_input": "2021-06-29T19:19:33.328140Z",
     "iopub.status.busy": "2021-06-29T19:19:33.327387Z",
     "iopub.status.idle": "2021-06-29T19:19:33.683040Z",
     "shell.execute_reply": "2021-06-29T19:19:33.682571Z"
    }
   },
   "outputs": [
    {
     "name": "stdout",
     "output_type": "stream",
     "text": [
      "env:\n",
      "  global:\n",
      "    - SCRIPT=\"test\"\n",
      "    - TEST_ARGS=\"\"\n",
      "    - BRANCH_NAME=\"${TRAVIS_PULL_REQUEST_BRANCH:-$TRAVIS_BRANCH}\"\n",
      "    - SCRIPT=\"not-test\"\n"
     ]
    }
   ],
   "source": [
    "nengobones_yml = \"\"\"\n",
    "travis_yml:\n",
    "    global_vars:\n",
    "        SCRIPT: not-test\n",
    "    jobs: []\n",
    "\"\"\"\n",
    "write_yml(nengobones_yml)\n",
    "!bones-generate travis-yml\n",
    "display_contents(\".travis.yml\", sections=[\"env\"])"
   ]
  },
  {
   "cell_type": "markdown",
   "metadata": {},
   "source": [
    "### Jobs\n",
    "\n",
    "The next important part of the `.travis.yml` is the \"jobs\" section."
   ]
  },
  {
   "cell_type": "code",
   "execution_count": 14,
   "metadata": {
    "execution": {
     "iopub.execute_input": "2021-06-29T19:19:33.687506Z",
     "iopub.status.busy": "2021-06-29T19:19:33.687025Z",
     "iopub.status.idle": "2021-06-29T19:19:33.690529Z",
     "shell.execute_reply": "2021-06-29T19:19:33.690971Z"
    }
   },
   "outputs": [
    {
     "name": "stdout",
     "output_type": "stream",
     "text": [
      "jobs:\n",
      "  include:\n"
     ]
    }
   ],
   "source": [
    "display_contents(\".travis.yml\", sections=[\"jobs\"])"
   ]
  },
  {
   "cell_type": "markdown",
   "metadata": {},
   "source": [
    "It is currently empty because we haven't defined any jobs in our `.nengobones.yml`.\n",
    "\n",
    "This is done via the `jobs` section of `travis_yml`, which specifies the builds we want\n",
    "to run during CI. The most important part of each job is specifying which script we want\n",
    "to run. For example, we could create a single job that runs the \"test\" script:"
   ]
  },
  {
   "cell_type": "code",
   "execution_count": 15,
   "metadata": {
    "execution": {
     "iopub.execute_input": "2021-06-29T19:19:33.695707Z",
     "iopub.status.busy": "2021-06-29T19:19:33.694979Z",
     "iopub.status.idle": "2021-06-29T19:19:34.050087Z",
     "shell.execute_reply": "2021-06-29T19:19:34.049651Z"
    }
   },
   "outputs": [
    {
     "name": "stdout",
     "output_type": "stream",
     "text": [
      "jobs:\n",
      "  include:\n",
      "  -\n",
      "    env:\n",
      "      SCRIPT=\"test\"\n"
     ]
    }
   ],
   "source": [
    "nengobones_yml = \"\"\"\n",
    "travis_yml:\n",
    "    jobs:\n",
    "        - script: test\n",
    "\"\"\"\n",
    "write_yml(nengobones_yml)\n",
    "!bones-generate travis-yml\n",
    "display_contents(\".travis.yml\", sections=[\"jobs\"])"
   ]
  },
  {
   "cell_type": "markdown",
   "metadata": {},
   "source": [
    "We can see that this causes the `$SCRIPT` variable to be set to `\"test\"`, which will\n",
    "then cause `test.sh` to be run during the various build steps.\n",
    "\n",
    "The `test_args` option sets the `$TEST_ARGS` environment variable that we saw in the\n",
    "`test.sh` script above. Recall that this will be passed to the `pytest` command, like\n",
    "`pytest my_project ... $TEST_ARGS`. This can be useful for projects that define custom\n",
    "pytest arguments that they might want to set for different jobs, e.g.:"
   ]
  },
  {
   "cell_type": "code",
   "execution_count": 16,
   "metadata": {
    "execution": {
     "iopub.execute_input": "2021-06-29T19:19:34.058333Z",
     "iopub.status.busy": "2021-06-29T19:19:34.054246Z",
     "iopub.status.idle": "2021-06-29T19:19:34.411326Z",
     "shell.execute_reply": "2021-06-29T19:19:34.410636Z"
    }
   },
   "outputs": [
    {
     "name": "stdout",
     "output_type": "stream",
     "text": [
      "jobs:\n",
      "  include:\n",
      "  -\n",
      "    env:\n",
      "      SCRIPT=\"test\"\n",
      "      TEST_ARGS=\"--do-a-special-test\"\n"
     ]
    }
   ],
   "source": [
    "nengobones_yml = \"\"\"\n",
    "travis_yml:\n",
    "    jobs:\n",
    "        - script: test\n",
    "          test_args: --do-a-special-test\n",
    "\"\"\"\n",
    "write_yml(nengobones_yml)\n",
    "!bones-generate travis-yml\n",
    "display_contents(\".travis.yml\", sections=[\"jobs\"])"
   ]
  },
  {
   "cell_type": "markdown",
   "metadata": {},
   "source": [
    "We can also set arbitrary environment variables through the `env` option:"
   ]
  },
  {
   "cell_type": "code",
   "execution_count": 17,
   "metadata": {
    "execution": {
     "iopub.execute_input": "2021-06-29T19:19:34.419483Z",
     "iopub.status.busy": "2021-06-29T19:19:34.415451Z",
     "iopub.status.idle": "2021-06-29T19:19:34.773075Z",
     "shell.execute_reply": "2021-06-29T19:19:34.772648Z"
    }
   },
   "outputs": [
    {
     "name": "stdout",
     "output_type": "stream",
     "text": [
      "jobs:\n",
      "  include:\n",
      "  -\n",
      "    env:\n",
      "      VAR0=\"val0\"\n",
      "      SCRIPT=\"test\"\n"
     ]
    }
   ],
   "source": [
    "nengobones_yml = \"\"\"\n",
    "travis_yml:\n",
    "    jobs:\n",
    "        - script: test\n",
    "          env:\n",
    "              VAR0: val0\n",
    "\"\"\"\n",
    "write_yml(nengobones_yml)\n",
    "!bones-generate travis-yml\n",
    "display_contents(\".travis.yml\", sections=[\"jobs\"])"
   ]
  },
  {
   "cell_type": "markdown",
   "metadata": {},
   "source": [
    "The `apt_install` option can be used to `apt install` any packages required for a job,\n",
    "e.g.:"
   ]
  },
  {
   "cell_type": "code",
   "execution_count": 18,
   "metadata": {
    "execution": {
     "iopub.execute_input": "2021-06-29T19:19:34.780186Z",
     "iopub.status.busy": "2021-06-29T19:19:34.777564Z",
     "iopub.status.idle": "2021-06-29T19:19:35.131268Z",
     "shell.execute_reply": "2021-06-29T19:19:35.131934Z"
    }
   },
   "outputs": [
    {
     "name": "stdout",
     "output_type": "stream",
     "text": [
      "jobs:\n",
      "  include:\n",
      "  -\n",
      "    env:\n",
      "      SCRIPT=\"test\"\n",
      "    addons:\n",
      "      apt:\n",
      "        packages:\n",
      "          - pandoc\n"
     ]
    }
   ],
   "source": [
    "nengobones_yml = \"\"\"\n",
    "travis_yml:\n",
    "    jobs:\n",
    "        - script: test\n",
    "          apt_install:\n",
    "              - pandoc\n",
    "\"\"\"\n",
    "write_yml(nengobones_yml)\n",
    "!bones-generate travis-yml\n",
    "display_contents(\".travis.yml\", sections=[\"jobs\"])"
   ]
  },
  {
   "cell_type": "markdown",
   "metadata": {},
   "source": [
    "Any other options set for a job will be passed directly on to the `.travis.yml` config\n",
    "for that job. This opens up a wide range of configuration options (see\n",
    "https://docs.travis-ci.com/ for more information).\n",
    "\n",
    "For example, we can set the `python` variable to change the Python version being used\n",
    "for that job. So we could create two jobs that run the test suite with different Python\n",
    "versions:"
   ]
  },
  {
   "cell_type": "code",
   "execution_count": 19,
   "metadata": {
    "execution": {
     "iopub.execute_input": "2021-06-29T19:19:35.139627Z",
     "iopub.status.busy": "2021-06-29T19:19:35.136201Z",
     "iopub.status.idle": "2021-06-29T19:19:35.492227Z",
     "shell.execute_reply": "2021-06-29T19:19:35.491667Z"
    }
   },
   "outputs": [
    {
     "name": "stdout",
     "output_type": "stream",
     "text": [
      "jobs:\n",
      "  include:\n",
      "  -\n",
      "    env:\n",
      "      SCRIPT=\"test\"\n",
      "    python: 3.5\n",
      "  -\n",
      "    env:\n",
      "      SCRIPT=\"test\"\n",
      "    python: 3.6\n"
     ]
    }
   ],
   "source": [
    "nengobones_yml = \"\"\"\n",
    "travis_yml:\n",
    "    jobs:\n",
    "        - script: test\n",
    "          python: 3.5\n",
    "        - script: test\n",
    "          python: 3.6\n",
    "\"\"\"\n",
    "write_yml(nengobones_yml)\n",
    "!bones-generate travis-yml\n",
    "display_contents(\".travis.yml\", sections=[\"jobs\"])"
   ]
  },
  {
   "cell_type": "markdown",
   "metadata": {},
   "source": [
    "Note that the Python version can also be changed for all jobs by setting the `python`\n",
    "option at the top level of the `travis_yml` section:"
   ]
  },
  {
   "cell_type": "code",
   "execution_count": 20,
   "metadata": {
    "execution": {
     "iopub.execute_input": "2021-06-29T19:19:35.497031Z",
     "iopub.status.busy": "2021-06-29T19:19:35.496517Z",
     "iopub.status.idle": "2021-06-29T19:19:35.854555Z",
     "shell.execute_reply": "2021-06-29T19:19:35.855249Z"
    }
   },
   "outputs": [
    {
     "name": "stdout",
     "output_type": "stream",
     "text": [
      "language: python\n",
      "python: 3.5\n",
      "notifications:\n",
      "  email:\n",
      "    on_success: change\n",
      "    on_failure: change\n"
     ]
    }
   ],
   "source": [
    "nengobones_yml = \"\"\"\n",
    "travis_yml:\n",
    "    python: 3.5\n",
    "    jobs:\n",
    "        - script: test\n",
    "\"\"\"\n",
    "write_yml(nengobones_yml)\n",
    "!bones-generate travis-yml\n",
    "display_contents(\".travis.yml\", sections=[\"language\", \"python\", \"notifications\"])"
   ]
  },
  {
   "cell_type": "markdown",
   "metadata": {},
   "source": [
    "Or we could divide jobs into different stages through the `stage` option:"
   ]
  },
  {
   "cell_type": "code",
   "execution_count": 21,
   "metadata": {
    "execution": {
     "iopub.execute_input": "2021-06-29T19:19:35.862198Z",
     "iopub.status.busy": "2021-06-29T19:19:35.859433Z",
     "iopub.status.idle": "2021-06-29T19:19:36.217089Z",
     "shell.execute_reply": "2021-06-29T19:19:36.217751Z"
    }
   },
   "outputs": [
    {
     "name": "stdout",
     "output_type": "stream",
     "text": [
      "jobs:\n",
      "  include:\n",
      "  -\n",
      "    env:\n",
      "      SCRIPT=\"test\"\n",
      "    stage: stage 0\n",
      "  -\n",
      "    env:\n",
      "      SCRIPT=\"docs\"\n",
      "    addons:\n",
      "      apt:\n",
      "        packages:\n",
      "          - pandoc\n",
      "    stage: stage 1\n"
     ]
    }
   ],
   "source": [
    "nengobones_yml = \"\"\"\n",
    "travis_yml:\n",
    "    jobs:\n",
    "        - script: test\n",
    "          stage: stage 0\n",
    "        - script: docs\n",
    "          stage: stage 1\n",
    "\"\"\"\n",
    "write_yml(nengobones_yml)\n",
    "!bones-generate travis-yml\n",
    "display_contents(\".travis.yml\", sections=[\"jobs\"])"
   ]
  },
  {
   "cell_type": "markdown",
   "metadata": {},
   "source": [
    "### Automatic deployment\n",
    "\n",
    "NengoBones can also configure TravisCI to automatically deploy releases to PyPI. This is\n",
    "activated by setting the `pypi_user` option. We recommend using [PyPI API\n",
    "tokens](https://pypi.org/help/#apitoken), in which case the `pypi_user` name should\n",
    "be `__token__`. You will also need to go into the TravisCI settings for your repo and\n",
    "add a secure environment variable named `PYPI_TOKEN` containing the token generated by\n",
    "PyPI (or the password for the user account if you are not using a token). Finally, you\n",
    "will need to make sure you are building the `deploy.sh` script by adding `- template:\n",
    "deploy` to your `ci_scripts`."
   ]
  },
  {
   "cell_type": "code",
   "execution_count": 22,
   "metadata": {
    "execution": {
     "iopub.execute_input": "2021-06-29T19:19:36.222854Z",
     "iopub.status.busy": "2021-06-29T19:19:36.222029Z",
     "iopub.status.idle": "2021-06-29T19:19:36.578376Z",
     "shell.execute_reply": "2021-06-29T19:19:36.577939Z"
    }
   },
   "outputs": [
    {
     "name": "stdout",
     "output_type": "stream",
     "text": [
      "jobs:\n",
      "  include:\n",
      "  -\n",
      "    env:\n",
      "      SCRIPT=\"test\"\n",
      "  - stage: deploy\n",
      "    if: branch =~ ^release-candidate-* OR tag =~ ^v[0-9]*\n",
      "    env: SCRIPT=\"deploy\"\n",
      "    cache: false\n",
      "    deploy:\n",
      "      - provider: pypi\n",
      "        server: https://test.pypi.org/legacy/\n",
      "        user: __token__\n",
      "        password: $PYPI_TEST_TOKEN\n",
      "        distributions: \"sdist \"\n",
      "        on:\n",
      "          all_branches: true\n",
      "          tags: false\n",
      "          condition: $TRAVIS_BRANCH =~ ^release-candidate-*\n",
      "      - provider: pypi\n",
      "        user: __token__\n",
      "        password: $PYPI_TOKEN\n",
      "        distributions: \"sdist \"\n",
      "        on:\n",
      "          all_branches: true\n",
      "          tags: true\n",
      "          condition: $TRAVIS_TAG =~ ^v[0-9]*\n"
     ]
    }
   ],
   "source": [
    "nengobones_yml = \"\"\"\n",
    "ci_scripts:\n",
    "    - template: test\n",
    "    - template: deploy\n",
    "\n",
    "travis_yml:\n",
    "    jobs:\n",
    "        - script: test\n",
    "    pypi_user: __token__\n",
    "\"\"\"\n",
    "write_yml(nengobones_yml)\n",
    "!bones-generate travis-yml\n",
    "display_contents(\".travis.yml\", sections=[\"jobs\"])"
   ]
  },
  {
   "cell_type": "markdown",
   "metadata": {},
   "source": [
    "This will trigger an automatic PyPI release for any tagged commit. You can also do a\n",
    "test release by pushing to a branch named `release-candidate-x.y.z` (where `x.y.z` is\n",
    "the version number you want to test). For test releases you will need to also add a\n",
    "`PYPI_TEST_TOKEN` in the TravisCI settings, containing the token generated on the\n",
    "Test PyPI site.\n",
    "\n",
    "The only other setting related to the automatic deployment is `deploy_dists`, which sets\n",
    "the distributions that will be built and uploaded with each release. We can see above\n",
    "that the default is an `sdist`-only release, but we could, for example, add wheels by\n",
    "modifying `deploy_dists`:"
   ]
  },
  {
   "cell_type": "code",
   "execution_count": 23,
   "metadata": {
    "execution": {
     "iopub.execute_input": "2021-06-29T19:19:36.585789Z",
     "iopub.status.busy": "2021-06-29T19:19:36.582624Z",
     "iopub.status.idle": "2021-06-29T19:19:36.939859Z",
     "shell.execute_reply": "2021-06-29T19:19:36.940269Z"
    }
   },
   "outputs": [
    {
     "name": "stdout",
     "output_type": "stream",
     "text": [
      "jobs:\n",
      "  include:\n",
      "  -\n",
      "    env:\n",
      "      SCRIPT=\"test\"\n",
      "  - stage: deploy\n",
      "    if: branch =~ ^release-candidate-* OR tag =~ ^v[0-9]*\n",
      "    env: SCRIPT=\"deploy\"\n",
      "    cache: false\n",
      "    deploy:\n",
      "      - provider: pypi\n",
      "        server: https://test.pypi.org/legacy/\n",
      "        user: test_user\n",
      "        password: $PYPI_TEST_TOKEN\n",
      "        distributions: \"sdist bdist_wheel \"\n",
      "        on:\n",
      "          all_branches: true\n",
      "          tags: false\n",
      "          condition: $TRAVIS_BRANCH =~ ^release-candidate-*\n",
      "      - provider: pypi\n",
      "        user: test_user\n",
      "        password: $PYPI_TOKEN\n",
      "        distributions: \"sdist bdist_wheel \"\n",
      "        on:\n",
      "          all_branches: true\n",
      "          tags: true\n",
      "          condition: $TRAVIS_TAG =~ ^v[0-9]*\n"
     ]
    }
   ],
   "source": [
    "nengobones_yml = \"\"\"\n",
    "ci_scripts:\n",
    "    - template: test\n",
    "    - template: deploy\n",
    "\n",
    "travis_yml:\n",
    "    jobs:\n",
    "        - script: test\n",
    "    pypi_user: test_user\n",
    "    deploy_dists:\n",
    "        - sdist\n",
    "        - bdist_wheel\n",
    "\"\"\"\n",
    "write_yml(nengobones_yml)\n",
    "!bones-generate travis-yml\n",
    "display_contents(\".travis.yml\", sections=[\"jobs\"])"
   ]
  },
  {
   "cell_type": "markdown",
   "metadata": {},
   "source": [
    "### Python environment setup\n",
    "\n",
    "The next section of the `.travis.yml` file sets up the Python environment:"
   ]
  },
  {
   "cell_type": "code",
   "execution_count": 24,
   "metadata": {
    "execution": {
     "iopub.execute_input": "2021-06-29T19:19:36.944716Z",
     "iopub.status.busy": "2021-06-29T19:19:36.943684Z",
     "iopub.status.idle": "2021-06-29T19:19:36.947687Z",
     "shell.execute_reply": "2021-06-29T19:19:36.948080Z"
    }
   },
   "outputs": [
    {
     "name": "stdout",
     "output_type": "stream",
     "text": [
      "before_install:\n",
      "  # export travis_terminate for use in scripts, from here:\n",
      "  # https://github.com/travis-ci/travis-build/blob/master/lib/travis/build/bash/travis_terminate.bash\n",
      "  - export -f travis_terminate\n",
      "    _travis_terminate_agent\n",
      "    _travis_terminate_freebsd\n",
      "    _travis_terminate_linux\n",
      "    _travis_terminate_osx\n",
      "    _travis_terminate_unix\n",
      "    _travis_terminate_windows\n",
      "  # upgrade pip\n",
      "  - pip install pip --upgrade\n",
      "  # install/run nengo-bones\n",
      "  - pip install git+https://github.com/nengo/nengo-bones#egg=nengo-bones\n",
      "  - bones-generate --output-dir .ci ci-scripts\n",
      "  - bones-check --verbose\n",
      "  # display environment info\n",
      "  - pip freeze\n"
     ]
    }
   ],
   "source": [
    "display_contents(\".travis.yml\", sections=[\"before_install\"])"
   ]
  },
  {
   "cell_type": "markdown",
   "metadata": {},
   "source": [
    "Note that we are calling `bones-generate ... ci-scripts` in this section in order to\n",
    "automatically generate all the scripts defined in the `.nengobones.yml` `ci_scripts`\n",
    "discussed above. We also call `bones-check`, which will give an error if any of the\n",
    "templated files are out of date.\n",
    "\n",
    "There are no configuration options for this section."
   ]
  },
  {
   "cell_type": "markdown",
   "metadata": {},
   "source": [
    "### Build steps\n",
    "\n",
    "Finally we call our templated script in each of the build steps, which will execute the\n",
    "behaviour we defined in those scripts."
   ]
  },
  {
   "cell_type": "code",
   "execution_count": 25,
   "metadata": {
    "execution": {
     "iopub.execute_input": "2021-06-29T19:19:36.952346Z",
     "iopub.status.busy": "2021-06-29T19:19:36.951312Z",
     "iopub.status.idle": "2021-06-29T19:19:36.955782Z",
     "shell.execute_reply": "2021-06-29T19:19:36.955371Z"
    }
   },
   "outputs": [
    {
     "name": "stdout",
     "output_type": "stream",
     "text": [
      "install:\n",
      "  - .ci/$SCRIPT.sh install\n",
      "  - pip freeze\n",
      "install:\n",
      "  - .ci/$SCRIPT.sh install\n",
      "  - pip freeze\n",
      "before_script:\n",
      "  - .ci/$SCRIPT.sh before_script\n",
      "script:\n",
      "  - .ci/$SCRIPT.sh script\n",
      "...\n"
     ]
    }
   ],
   "source": [
    "display_contents(\n",
    "    \".travis.yml\", sections=[\"install\", \"after_install\", \"before_script\", \"script\"]\n",
    ")\n",
    "print(\"...\")"
   ]
  },
  {
   "cell_type": "markdown",
   "metadata": {},
   "source": [
    "There are no configuration options for this section (instead this behaviour is\n",
    "controlled by configuring the ci scripts, as described in the\n",
    "[section above](#CI-scripts))."
   ]
  },
  {
   "cell_type": "markdown",
   "metadata": {},
   "source": [
    "### Slack notifications\n",
    "\n",
    "The `slack_notifications` config option can be used to enable Slack notifications on\n",
    "failed builds. This uses a secret string, which can be generated using the Travis CI\n",
    "command line tool\n",
    "\n",
    "```text\n",
    "travis encrypt <account>:<token>#<slack-channel>\n",
    "```\n",
    "\n",
    "Where `account` and `token` can be obtained from Slack's Travis CI integration settings,\n",
    "and `slack-channel` is where we want messages to be delivered. This will output a string\n",
    "that looks like\n",
    "\n",
    "```text\n",
    "secure: \"<secret-key>\"\n",
    "```\n",
    "\n",
    "Copy that secret key and set it as the value of `slack_notifications`:"
   ]
  },
  {
   "cell_type": "code",
   "execution_count": 26,
   "metadata": {
    "execution": {
     "iopub.execute_input": "2021-06-29T19:19:36.960333Z",
     "iopub.status.busy": "2021-06-29T19:19:36.959638Z",
     "iopub.status.idle": "2021-06-29T19:19:37.314917Z",
     "shell.execute_reply": "2021-06-29T19:19:37.315321Z"
    }
   },
   "outputs": [
    {
     "name": "stdout",
     "output_type": "stream",
     "text": [
      "notifications:\n",
      "  email:\n",
      "    on_success: change\n",
      "    on_failure: change\n",
      "  slack:\n",
      "    if: branch = master\n",
      "    on_pull_requests: false\n",
      "    on_success: change\n",
      "    on_failure: always\n",
      "    rooms:\n",
      "      - secure: \"<secret-key>\"\n"
     ]
    }
   ],
   "source": [
    "nengobones_yml = \"\"\"\n",
    "travis_yml:\n",
    "    slack_notifications: <secret-key>\n",
    "    jobs: []\n",
    "\"\"\"\n",
    "write_yml(nengobones_yml)\n",
    "!bones-generate travis-yml\n",
    "display_contents(\".travis.yml\", sections=[\"notifications\"])"
   ]
  },
  {
   "cell_type": "markdown",
   "metadata": {},
   "source": [
    "## Codecov config\n",
    "\n",
    "NengoBones will automatically upload coverage reports to [Codecov](https://codecov.io/)\n",
    "if the `coverage: true` option is set on the test script config. Codecov reads the\n",
    "`.codecov.yml` configuration file, which NengoBones also has a template for and can be\n",
    "controlled through the `codecov_yml` option."
   ]
  },
  {
   "cell_type": "code",
   "execution_count": 27,
   "metadata": {
    "execution": {
     "iopub.execute_input": "2021-06-29T19:19:37.322589Z",
     "iopub.status.busy": "2021-06-29T19:19:37.319386Z",
     "iopub.status.idle": "2021-06-29T19:19:37.668171Z",
     "shell.execute_reply": "2021-06-29T19:19:37.668594Z"
    }
   },
   "outputs": [
    {
     "name": "stdout",
     "output_type": "stream",
     "text": [
      "# Automatically generated by nengo-bones, do not edit this file directly\n",
      "codecov:\n",
      "  ci:\n",
      "    - \"!ci.appveyor.com\"\n",
      "  notify:\n",
      "    require_ci_to_pass: no\n",
      "coverage:\n",
      "  status:\n",
      "    project:\n",
      "      default:\n",
      "        enabled: yes\n",
      "        target: auto\n",
      "    patch:\n",
      "      default:\n",
      "        enabled: yes\n",
      "        target: 100%\n",
      "    changes: no\n"
     ]
    }
   ],
   "source": [
    "nengobones_yml = \"\"\"\n",
    "codecov_yml: {}\n",
    "\"\"\"\n",
    "write_yml(nengobones_yml)\n",
    "!bones-generate codecov-yml\n",
    "display_contents(\".codecov.yml\")"
   ]
  },
  {
   "cell_type": "markdown",
   "metadata": {},
   "source": [
    "The first thing to be noted is the `!ci.appveyor.com` line. This tells Codecov not to\n",
    "wait for a coverage report from appveyor (generally we assume that all the coverage is\n",
    "being checked on TravisCI). This can be disabled by setting `skip_appveyor: false`:"
   ]
  },
  {
   "cell_type": "code",
   "execution_count": 28,
   "metadata": {
    "execution": {
     "iopub.execute_input": "2021-06-29T19:19:37.675968Z",
     "iopub.status.busy": "2021-06-29T19:19:37.672784Z",
     "iopub.status.idle": "2021-06-29T19:19:38.021370Z",
     "shell.execute_reply": "2021-06-29T19:19:38.021786Z"
    }
   },
   "outputs": [
    {
     "name": "stdout",
     "output_type": "stream",
     "text": [
      "codecov:\n",
      "  notify:\n",
      "    require_ci_to_pass: no\n"
     ]
    }
   ],
   "source": [
    "nengobones_yml = \"\"\"\n",
    "codecov_yml:\n",
    "    skip_appveyor: false\n",
    "\"\"\"\n",
    "write_yml(nengobones_yml)\n",
    "!bones-generate codecov-yml\n",
    "display_contents(\".codecov.yml\", sections=[\"codecov\"])"
   ]
  },
  {
   "cell_type": "markdown",
   "metadata": {},
   "source": [
    "The other configuration options have to do with the target coverage at either the\n",
    "project or patch level. These determine whether the codecov PR status checks will be\n",
    "marked as passing or failing. The \"project\" coverage is the total lines of code covered\n",
    "by tests for the whole project. The default value is \"auto\", meaning that the status\n",
    "check will pass if the total coverage is >= the coverage in the base branch of the PR.\n",
    "The \"patch\" coverage only looks at the lines of code modified in the PR. The default\n",
    "value is \"100%\", meaning that every modified line of code needs to be covered by a test\n",
    "for the check to pass.\n",
    "\n",
    "These can be modified by the `abs_target` and `diff_target` config options,\n",
    "respectively:"
   ]
  },
  {
   "cell_type": "code",
   "execution_count": 29,
   "metadata": {
    "execution": {
     "iopub.execute_input": "2021-06-29T19:19:38.026791Z",
     "iopub.status.busy": "2021-06-29T19:19:38.026037Z",
     "iopub.status.idle": "2021-06-29T19:19:38.380107Z",
     "shell.execute_reply": "2021-06-29T19:19:38.379625Z"
    }
   },
   "outputs": [
    {
     "name": "stdout",
     "output_type": "stream",
     "text": [
      "coverage:\n",
      "  status:\n",
      "    project:\n",
      "      default:\n",
      "        enabled: yes\n",
      "        target: 80%\n",
      "    patch:\n",
      "      default:\n",
      "        enabled: yes\n",
      "        target: 90%\n",
      "    changes: no\n"
     ]
    }
   ],
   "source": [
    "nengobones_yml = \"\"\"\n",
    "codecov_yml:\n",
    "    abs_target: 80%\n",
    "    diff_target: 90%\n",
    "\"\"\"\n",
    "write_yml(nengobones_yml)\n",
    "!bones-generate codecov-yml\n",
    "display_contents(\".codecov.yml\", sections=[\"coverage\"])"
   ]
  },
  {
   "cell_type": "markdown",
   "metadata": {},
   "source": [
    "## LICENSE.rst config\n",
    "\n",
    "A license file can be automatically generated by NengoBones. Currently the Nengo License\n",
    "and MIT License are supported as base templates (specified by the `type` tag)."
   ]
  },
  {
   "cell_type": "code",
   "execution_count": 30,
   "metadata": {
    "execution": {
     "iopub.execute_input": "2021-06-29T19:19:38.384910Z",
     "iopub.status.busy": "2021-06-29T19:19:38.384176Z",
     "iopub.status.idle": "2021-06-29T19:19:38.733129Z",
     "shell.execute_reply": "2021-06-29T19:19:38.733540Z"
    }
   },
   "outputs": [
    {
     "name": "stdout",
     "output_type": "stream",
     "text": [
      ".. Automatically generated by nengo-bones, do not edit this file directly\n",
      "\n",
      "***********************\n",
      "Example Project license\n",
      "***********************\n",
      "\n",
      "Copyright (c) 2021-2021 Applied Brain Research\n",
      "\n",
      "Example Project is made available under a proprietary license\n",
      "that permits using, copying, sharing, and making derivative works from\n",
      "Example Project and its source code for any non-commercial purpose,\n",
      "as long as the above copyright notice and this permission notice\n",
      "are included in all copies or substantial portions of the software.\n",
      "\n",
      "If you would like to use Example Project commercially,\n",
      "licenses can be purchased from Applied Brain Research.\n",
      "Please contact info@appliedbrainresearch.com for more information.\n",
      "\n",
      "THE SOFTWARE IS PROVIDED \"AS IS\", WITHOUT WARRANTY OF ANY KIND, EXPRESS OR\n",
      "IMPLIED, INCLUDING BUT NOT LIMITED TO THE WARRANTIES OF MERCHANTABILITY,\n",
      "FITNESS FOR A PARTICULAR PURPOSE AND NONINFRINGEMENT. IN NO EVENT SHALL THE\n",
      "AUTHORS OR COPYRIGHT HOLDERS BE LIABLE FOR ANY CLAIM, DAMAGES OR OTHER\n",
      "LIABILITY, WHETHER IN AN ACTION OF CONTRACT, TORT OR OTHERWISE, ARISING FROM,\n",
      "OUT OF OR IN CONNECTION WITH THE SOFTWARE OR THE USE OR OTHER DEALINGS IN THE\n",
      "SOFTWARE.\n"
     ]
    }
   ],
   "source": [
    "nengobones_yml = \"\"\"\n",
    "license_rst:\n",
    "    type: nengo\n",
    "\"\"\"\n",
    "write_yml(nengobones_yml)\n",
    "!bones-generate license-rst\n",
    "display_contents(\"LICENSE.rst\")"
   ]
  },
  {
   "cell_type": "markdown",
   "metadata": {},
   "source": [
    "Note that this template uses several of the [general options](#General-options)\n",
    "described above (`project_name`, `author`, `author_email`, `copyright_start`,\n",
    "`copyright_end`)."
   ]
  },
  {
   "cell_type": "code",
   "execution_count": 31,
   "metadata": {
    "execution": {
     "iopub.execute_input": "2021-06-29T19:19:38.740647Z",
     "iopub.status.busy": "2021-06-29T19:19:38.737527Z",
     "iopub.status.idle": "2021-06-29T19:19:39.088473Z",
     "shell.execute_reply": "2021-06-29T19:19:39.088912Z"
    }
   },
   "outputs": [
    {
     "name": "stdout",
     "output_type": "stream",
     "text": [
      ".. Automatically generated by nengo-bones, do not edit this file directly\n",
      "\n",
      "***********************\n",
      "Example Project license\n",
      "***********************\n",
      "\n",
      "MIT License\n",
      "\n",
      "Copyright (c) 1900-2021 A Different Author\n",
      "\n",
      "Permission is hereby granted, free of charge,\n",
      "to any person obtaining a copy of this software\n",
      "and associated documentation files (the \"Software\"),\n",
      "to deal in the Software without restriction,\n",
      "including without limitation the rights to use, copy, modify, merge,\n",
      "publish, distribute, sublicense, and/or sell copies of the Software,\n",
      "and to permit persons to whom the Software is furnished to do so,\n",
      "subject to the following conditions:\n",
      "\n",
      "The above copyright notice and this permission notice shall be included\n",
      "in all copies or substantial portions of the Software.\n",
      "\n",
      "THE SOFTWARE IS PROVIDED \"AS IS\", WITHOUT WARRANTY OF ANY KIND, EXPRESS OR\n",
      "IMPLIED, INCLUDING BUT NOT LIMITED TO THE WARRANTIES OF MERCHANTABILITY,\n",
      "FITNESS FOR A PARTICULAR PURPOSE AND NONINFRINGEMENT. IN NO EVENT SHALL THE\n",
      "AUTHORS OR COPYRIGHT HOLDERS BE LIABLE FOR ANY CLAIM, DAMAGES OR OTHER\n",
      "LIABILITY, WHETHER IN AN ACTION OF CONTRACT, TORT OR OTHERWISE, ARISING FROM,\n",
      "OUT OF OR IN CONNECTION WITH THE SOFTWARE OR THE USE OR OTHER DEALINGS IN THE\n",
      "SOFTWARE.\n"
     ]
    }
   ],
   "source": [
    "nengobones_yml = \"\"\"\n",
    "author: A Different Author\n",
    "copyright_start: 1900\n",
    "license_rst:\n",
    "    type: mit\n",
    "\"\"\"\n",
    "write_yml(nengobones_yml)\n",
    "!bones-generate license-rst\n",
    "display_contents(\"LICENSE.rst\")"
   ]
  },
  {
   "cell_type": "markdown",
   "metadata": {},
   "source": [
    "## CONTRIBUTING.rst config\n",
    "\n",
    "The CONTRIBUTING.rst file instructs potential contributors on how to contribute to the\n",
    "project. It has no configuration options, although it makes use of some of the\n",
    "[general options](#General-options) (`project_name`, `repo_name`)."
   ]
  },
  {
   "cell_type": "code",
   "execution_count": 32,
   "metadata": {
    "execution": {
     "iopub.execute_input": "2021-06-29T19:19:39.095914Z",
     "iopub.status.busy": "2021-06-29T19:19:39.092956Z",
     "iopub.status.idle": "2021-06-29T19:19:39.443237Z",
     "shell.execute_reply": "2021-06-29T19:19:39.443830Z"
    }
   },
   "outputs": [
    {
     "name": "stdout",
     "output_type": "stream",
     "text": [
      ".. Automatically generated by nengo-bones, do not edit this file directly\n",
      "\n",
      "*******************************\n",
      "Contributing to Example Project\n",
      "*******************************\n",
      "\n",
      "Issues and pull requests are always welcome!\n",
      "We appreciate help from the community to make Example Project better.\n",
      "\n",
      "Filing issues\n",
      "=============\n",
      "\n",
      "If you find a bug in Example Project,\n",
      "or think that a certain feature is missing,\n",
      "please consider\n",
      "`filing an issue <https://github.com/eg-org/eg-package/issues>`_!\n",
      "Please search the currently open issues first\n",
      "to see if your bug or feature request already exists.\n",
      "If so, feel free to add a comment to the issue\n",
      "so that we know that multiple people are affected.\n",
      "\n",
      "Making pull requests\n",
      "====================\n",
      "\n",
      "If you want to fix a bug or add a feature to Example Project,\n",
      "we welcome pull requests.\n",
      "Ensure that you fill out all sections of the pull request template,\n",
      "deleting the comments as you go.\n",
      "\n",
      "Contributor agreement\n",
      "=====================\n",
      "\n",
      "We require that all contributions be covered under\n",
      "our contributor assignment agreement. Please see\n",
      "`the agreement <https://www.nengo.ai/caa/>`_\n",
      "for instructions on how to sign.\n",
      "\n",
      "More details\n",
      "============\n",
      "\n",
      "For more details on how to contribute to Nengo,\n",
      "please see the `developer guide <https://www.nengo.ai/contributing/>`_.\n"
     ]
    }
   ],
   "source": [
    "nengobones_yml = \"\"\"\n",
    "contributing_rst: {}\n",
    "\"\"\"\n",
    "write_yml(nengobones_yml)\n",
    "\n",
    "!bones-generate contributing-rst\n",
    "display_contents(\"CONTRIBUTING.rst\")"
   ]
  },
  {
   "cell_type": "markdown",
   "metadata": {},
   "source": [
    "## CONTRIBUTORS.rst config\n",
    "\n",
    "The CONTRIBUTORS.rst file links to the contributor list for the project. It always\n",
    "provides the Github contributors link, which lists all people who have committed to the\n",
    "project."
   ]
  },
  {
   "cell_type": "code",
   "execution_count": 33,
   "metadata": {
    "execution": {
     "iopub.execute_input": "2021-06-29T19:19:39.448608Z",
     "iopub.status.busy": "2021-06-29T19:19:39.447880Z",
     "iopub.status.idle": "2021-06-29T19:19:39.795665Z",
     "shell.execute_reply": "2021-06-29T19:19:39.795242Z"
    }
   },
   "outputs": [
    {
     "name": "stdout",
     "output_type": "stream",
     "text": [
      ".. Automatically generated by nengo-bones, do not edit this file directly\n",
      "\n",
      "****************************\n",
      "Example Project contributors\n",
      "****************************\n",
      "\n",
      "See https://github.com/eg-org/eg-package/graphs/contributors\n",
      "for a list of the people who have committed to Example Project.\n",
      "Thank you for your contributions!\n"
     ]
    }
   ],
   "source": [
    "nengobones_yml = \"\"\"\n",
    "contributors_rst: {}\n",
    "\"\"\"\n",
    "write_yml(nengobones_yml)\n",
    "\n",
    "!bones-generate contributors-rst\n",
    "display_contents(\"CONTRIBUTORS.rst\")"
   ]
  },
  {
   "cell_type": "markdown",
   "metadata": {},
   "source": [
    "The `nengo_list` flag includes the full list of Nengo ecosystem contributors. It\n",
    "defaults to `True` if the license type is the \"nengo\" license, and False otherwise."
   ]
  },
  {
   "cell_type": "code",
   "execution_count": 34,
   "metadata": {
    "execution": {
     "iopub.execute_input": "2021-06-29T19:19:39.799839Z",
     "iopub.status.busy": "2021-06-29T19:19:39.799373Z",
     "iopub.status.idle": "2021-06-29T19:19:40.145646Z",
     "shell.execute_reply": "2021-06-29T19:19:40.145010Z"
    }
   },
   "outputs": [
    {
     "name": "stdout",
     "output_type": "stream",
     "text": [
      ".. Automatically generated by nengo-bones, do not edit this file directly\n",
      "\n",
      "****************************\n",
      "Example Project contributors\n",
      "****************************\n",
      "\n",
      "See https://github.com/eg-org/eg-package/graphs/contributors\n",
      "for a list of the people who have committed to Example Project.\n",
      "Thank you for your contributions!\n",
      "\n",
      "For the full list of the many contributors to the Nengo ecosystem,\n",
      "see https://www.nengo.ai/people/.\n"
     ]
    }
   ],
   "source": [
    "nengobones_yml = \"\"\"\n",
    "contributors_rst:\n",
    "    nengo_list: True\n",
    "\"\"\"\n",
    "write_yml(nengobones_yml)\n",
    "\n",
    "!bones-generate contributors-rst\n",
    "display_contents(\"CONTRIBUTORS.rst\")"
   ]
  },
  {
   "cell_type": "markdown",
   "metadata": {},
   "source": [
    "## MANIFEST.in config\n",
    "\n",
    "The MANIFEST.in template defines some standard rules for the project manifest:"
   ]
  },
  {
   "cell_type": "code",
   "execution_count": 35,
   "metadata": {
    "execution": {
     "iopub.execute_input": "2021-06-29T19:19:40.150401Z",
     "iopub.status.busy": "2021-06-29T19:19:40.149693Z",
     "iopub.status.idle": "2021-06-29T19:19:40.497190Z",
     "shell.execute_reply": "2021-06-29T19:19:40.498095Z"
    }
   },
   "outputs": [
    {
     "name": "stdout",
     "output_type": "stream",
     "text": [
      "# Automatically generated by nengo-bones, do not edit this file directly\n",
      "\n",
      "global-include *.py\n",
      "global-include *.sh\n",
      "global-include *.template\n",
      "include *.rst\n",
      "\n",
      "# Include files for CI and recreating the source dist\n",
      "include *.yml\n",
      "include *.yaml\n",
      "include *.toml\n",
      "include MANIFEST.in\n",
      "include .gitlint\n",
      "include .pylintrc\n",
      "\n",
      "# Directories to include\n",
      "graft docs\n",
      "\n",
      "# Subdirectories to exclude, if they exist\n",
      "prune docs/_build\n",
      "prune dist\n",
      "prune .git\n",
      "prune .github\n",
      "prune .tox\n",
      "prune .eggs\n",
      "prune .ci\n",
      "\n",
      "# Exclude auto-generated files\n",
      "recursive-exclude docs *.py\n",
      "\n",
      "# Patterns to exclude from any directory\n",
      "global-exclude *.ipynb_checkpoints*\n",
      "global-exclude *-checkpoint.ipynb\n",
      "\n",
      "# Exclude all bytecode\n",
      "global-exclude *.pyc *.pyo *.pyd\n"
     ]
    }
   ],
   "source": [
    "nengobones_yml = \"\"\"\n",
    "manifest_in: {}\n",
    "\"\"\"\n",
    "write_yml(nengobones_yml)\n",
    "\n",
    "!bones-generate manifest-in\n",
    "display_contents(\"MANIFEST.in\")"
   ]
  },
  {
   "cell_type": "markdown",
   "metadata": {},
   "source": [
    "Arbitrary additions can be made to this list by setting configuration options with the\n",
    "appropriate MANIFEST rule heading:"
   ]
  },
  {
   "cell_type": "code",
   "execution_count": 36,
   "metadata": {
    "execution": {
     "iopub.execute_input": "2021-06-29T19:19:40.505417Z",
     "iopub.status.busy": "2021-06-29T19:19:40.502160Z",
     "iopub.status.idle": "2021-06-29T19:19:40.851517Z",
     "shell.execute_reply": "2021-06-29T19:19:40.850634Z"
    }
   },
   "outputs": [
    {
     "name": "stdout",
     "output_type": "stream",
     "text": [
      "# Automatically generated by nengo-bones, do not edit this file directly\n",
      "\n",
      "global-include *.py\n",
      "global-include *.sh\n",
      "global-include *.template\n",
      "include *.rst\n",
      "\n",
      "# Include files for CI and recreating the source dist\n",
      "include *.yml\n",
      "include *.yaml\n",
      "include *.toml\n",
      "include MANIFEST.in\n",
      "include .gitlint\n",
      "include .pylintrc\n",
      "\n",
      "# Directories to include\n",
      "graft docs\n",
      "\n",
      "# Subdirectories to exclude, if they exist\n",
      "prune docs/_build\n",
      "prune dist\n",
      "prune .git\n",
      "prune .github\n",
      "prune .tox\n",
      "prune .eggs\n",
      "prune .ci\n",
      "\n",
      "# Exclude auto-generated files\n",
      "recursive-exclude docs *.py\n",
      "\n",
      "# Patterns to exclude from any directory\n",
      "global-exclude *.ipynb_checkpoints*\n",
      "global-exclude *-checkpoint.ipynb\n",
      "\n",
      "# Exclude all bytecode\n",
      "global-exclude *.pyc *.pyo *.pyd\n",
      "\n",
      "# Repo-specific files\n",
      "global-include global_include_pattern0\n",
      "global-include global_include_pattern1\n",
      "graft graft_pattern0\n"
     ]
    }
   ],
   "source": [
    "nengobones_yml = \"\"\"\n",
    "manifest_in:\n",
    "    global-include:\n",
    "        - global_include_pattern0\n",
    "        - global_include_pattern1\n",
    "    graft:\n",
    "        - graft_pattern0\n",
    "\"\"\"\n",
    "write_yml(nengobones_yml)\n",
    "\n",
    "!bones-generate manifest-in\n",
    "display_contents(\"MANIFEST.in\")"
   ]
  },
  {
   "cell_type": "markdown",
   "metadata": {},
   "source": [
    "## setup.cfg config\n",
    "\n",
    "The setup.cfg file contains configuration options for a number of different tools. In\n",
    "addition to the specific options defined below, the setup.cfg template makes use of the\n",
    "general `pkg_name` option to set various file/path names."
   ]
  },
  {
   "cell_type": "code",
   "execution_count": 37,
   "metadata": {
    "execution": {
     "iopub.execute_input": "2021-06-29T19:19:40.858757Z",
     "iopub.status.busy": "2021-06-29T19:19:40.855516Z",
     "iopub.status.idle": "2021-06-29T19:19:41.219586Z",
     "shell.execute_reply": "2021-06-29T19:19:41.220004Z"
    }
   },
   "outputs": [
    {
     "name": "stdout",
     "output_type": "stream",
     "text": [
      "# Automatically generated by nengo-bones, do not edit this file directly\n",
      "\n",
      "[build_sphinx]\n",
      "source-dir = docs\n",
      "build-dir = docs/_build\n",
      "all_files = 1\n",
      "\n",
      "[coverage:run]\n",
      "source = ./\n",
      "\n",
      "[coverage:report]\n",
      "# Regexes for lines to exclude from consideration\n",
      "exclude_lines =\n",
      "    # Have to re-enable the standard pragma\n",
      "    # place ``# pragma: no cover`` at the end of a line to ignore it\n",
      "    pragma: no cover\n",
      "\n",
      "    # Don't complain if tests don't hit defensive assertion code:\n",
      "    raise NotImplementedError\n",
      "\n",
      "    # `pass` is just a placeholder, fine if it's not covered\n",
      "    ^[ \\t]*pass$\n",
      "\n",
      "\n",
      "# Patterns for files to exclude from reporting\n",
      "omit =\n",
      "    */tests/test*\n",
      "\n",
      "[flake8]\n",
      "exclude =\n",
      "    __init__.py\n",
      "ignore =\n",
      "    E123\n",
      "    E133\n",
      "    E203\n",
      "    E226\n",
      "    E241\n",
      "    E242\n",
      "    E501\n",
      "    E731\n",
      "    F401\n",
      "    W503\n",
      "max-complexity = 10\n",
      "max-line-length = 88\n",
      "\n",
      "[tool:pytest]\n",
      "norecursedirs =\n",
      "    .*\n",
      "    *.egg\n",
      "    build\n",
      "    dist\n",
      "    docs\n",
      "xfail_strict = False\n",
      "\n",
      "[pylint]\n",
      "\n",
      "[pylint.messages]\n",
      "disable =\n",
      "    arguments-differ,\n",
      "    assignment-from-no-return,\n",
      "    attribute-defined-outside-init,\n",
      "    bad-continuation,\n",
      "    blacklisted-name,\n",
      "    comparison-with-callable,\n",
      "    duplicate-code,\n",
      "    fixme,\n",
      "    import-error,\n",
      "    invalid-name,\n",
      "    invalid-sequence-index,\n",
      "    len-as-condition,\n",
      "    literal-comparison,\n",
      "    no-else-raise,\n",
      "    no-else-return,\n",
      "    no-member,\n",
      "    no-name-in-module,\n",
      "    no-self-use,\n",
      "    not-an-iterable,\n",
      "    not-context-manager,\n",
      "    protected-access,\n",
      "    redefined-builtin,\n",
      "    stop-iteration-return,\n",
      "    too-few-public-methods,\n",
      "    too-many-arguments,\n",
      "    too-many-branches,\n",
      "    too-many-instance-attributes,\n",
      "    too-many-lines,\n",
      "    too-many-locals,\n",
      "    too-many-return-statements,\n",
      "    too-many-statements,\n",
      "    unexpected-keyword-arg,\n",
      "    unidiomatic-typecheck,\n",
      "    unsubscriptable-object,\n",
      "    unsupported-assignment-operation,\n",
      "    unused-argument,\n",
      "\n",
      "[pylint.imports]\n",
      "known-third-party =\n",
      "    matplotlib,\n",
      "    nengo,\n",
      "    numpy,\n",
      "    pytest,\n",
      "\n",
      "[pylint.format]\n",
      "max-line-length = 88\n",
      "\n",
      "[pylint.classes]\n",
      "valid-metaclass-classmethod-first-arg = metacls\n",
      "\n",
      "[pylint.reports]\n",
      "reports = no\n",
      "score = no\n",
      "\n",
      "[codespell]\n",
      "skip = ./build,*/_build,*-checkpoint.ipynb,./.eggs,./*.egg-info,./.git,*/_vendor,./.mypy_cache,\n"
     ]
    }
   ],
   "source": [
    "nengobones_yml = \"\"\"\n",
    "setup_cfg: {}\n",
    "\"\"\"\n",
    "write_yml(nengobones_yml)\n",
    "\n",
    "!bones-generate setup-cfg\n",
    "display_contents(\"setup.cfg\")"
   ]
  },
  {
   "cell_type": "markdown",
   "metadata": {},
   "source": [
    "Each of the tools configured by setup.cfg has its own subheading in the .nengobones.yml\n",
    "`setup_cfg` section.\n",
    "\n",
    "`coverage` has two options:\n",
    "\n",
    "- `exclude_lines`: a list of regex expressions that will be ignored in code coverage\n",
    "  reports\n",
    "- `omit_files`: a list of filename patterns that will be ignored\n",
    "\n",
    "Note that some defaults are already specified in both cases, and any options passed are\n",
    "in addition to those defaults."
   ]
  },
  {
   "cell_type": "code",
   "execution_count": 38,
   "metadata": {
    "execution": {
     "iopub.execute_input": "2021-06-29T19:19:41.228125Z",
     "iopub.status.busy": "2021-06-29T19:19:41.224426Z",
     "iopub.status.idle": "2021-06-29T19:19:41.589493Z",
     "shell.execute_reply": "2021-06-29T19:19:41.588737Z"
    }
   },
   "outputs": [
    {
     "name": "stdout",
     "output_type": "stream",
     "text": [
      "[coverage:run]\n",
      "source = ./\n",
      "\n",
      "[coverage:report]\n",
      "# Regexes for lines to exclude from consideration\n",
      "exclude_lines =\n",
      "    # Have to re-enable the standard pragma\n",
      "    # place ``# pragma: no cover`` at the end of a line to ignore it\n",
      "    pragma: no cover\n",
      "\n",
      "    # Don't complain if tests don't hit defensive assertion code:\n",
      "    raise NotImplementedError\n",
      "\n",
      "    # `pass` is just a placeholder, fine if it's not covered\n",
      "    ^[ \\t]*pass$\n",
      "\n",
      "    for *\n",
      "    while *\n",
      "\n",
      "# Patterns for files to exclude from reporting\n",
      "omit =\n",
      "    */tests/test*\n",
      "    subdir/*\n"
     ]
    }
   ],
   "source": [
    "nengobones_yml = \"\"\"\n",
    "setup_cfg:\n",
    "    coverage:\n",
    "        exclude_lines:\n",
    "            # Ignore all loops\n",
    "            - for *\n",
    "            - while *\n",
    "        omit_files:\n",
    "            # Ignore all files in subdirectory\n",
    "            - subdir/*\n",
    "\"\"\"\n",
    "write_yml(nengobones_yml)\n",
    "\n",
    "!bones-generate setup-cfg\n",
    "display_contents(\"setup.cfg\", sections=[\"[coverage:run]\", \"[coverage:report]\"])"
   ]
  },
  {
   "cell_type": "markdown",
   "metadata": {},
   "source": [
    "The `flake8` section has two options:\n",
    "\n",
    "- `exclude`: a list of filename patterns to be ignored\n",
    "- `ignore`: a list of rules to be ignored; see https://lintlyci.github.io/Flake8Rules/\n",
    "  for a full list."
   ]
  },
  {
   "cell_type": "code",
   "execution_count": 39,
   "metadata": {
    "execution": {
     "iopub.execute_input": "2021-06-29T19:19:41.596899Z",
     "iopub.status.busy": "2021-06-29T19:19:41.593761Z",
     "iopub.status.idle": "2021-06-29T19:19:41.956467Z",
     "shell.execute_reply": "2021-06-29T19:19:41.956906Z"
    }
   },
   "outputs": [
    {
     "name": "stdout",
     "output_type": "stream",
     "text": [
      "[flake8]\n",
      "exclude =\n",
      "    __init__.py\n",
      "    subdir/*\n",
      "ignore =\n",
      "    E123\n",
      "    E133\n",
      "    E203\n",
      "    E226\n",
      "    E241\n",
      "    E242\n",
      "    E501\n",
      "    E731\n",
      "    F401\n",
      "    W503\n",
      "    E101\n",
      "    E111\n",
      "max-complexity = 10\n",
      "max-line-length = 88\n"
     ]
    }
   ],
   "source": [
    "nengobones_yml = \"\"\"\n",
    "setup_cfg:\n",
    "    flake8:\n",
    "        exclude:\n",
    "            - subdir/*\n",
    "        ignore:\n",
    "            - E101\n",
    "            - E111\n",
    "\"\"\"\n",
    "write_yml(nengobones_yml)\n",
    "\n",
    "!bones-generate setup-cfg\n",
    "display_contents(\"setup.cfg\", sections=[\"[flake8]\"])"
   ]
  },
  {
   "cell_type": "markdown",
   "metadata": {},
   "source": [
    "The `pytest` section has the following general options:\n",
    "\n",
    "- `addopts`: A list of command line options to pass to any pytest invocation (defaults\n",
    "  to `-p nengo.tests.options`, which will add the pytest command line options from Nengo\n",
    "  core).\n",
    "- `xfail_strict`: If True, xpass will be treated as a failure (defaults to False).\n",
    "- `norecursedirs`: A list of directory name patterns that should not be searched for\n",
    "  test files.\n",
    "- `markers`: Descriptions for any custom markers that can be applied to test functions.\n",
    "- `filterwarnings`: Controls how warnings will be handled (see\n",
    "  https://docs.python.org/3/library/warnings.html#warning-filter for a description of\n",
    "  how to write warning filters).\n",
    "\n",
    "And the following options for Pytest plugins.\n",
    "\n",
    "pytest-allclose:\n",
    "\n",
    "- `allclose_tolerances`: A list of test name patterns and associated tolerance values.\n",
    "\n",
    "pytest_nengo:\n",
    "\n",
    "- `nengo_neurons`: Specifies which neuron types to test.\n",
    "- `nengo_simulator`: Specifies the Nengo backend to test.\n",
    "- `nengo_simloader`: Specifies a function that returns the Nengo backend to test.\n",
    "- `nengo_test_unsupported`: Marks which core tests are not expected to pass.\n",
    "\n",
    "pytest-plt:\n",
    "\n",
    "- `plt_dirname`: A directory name to store plots.\n",
    "- `plt_filename_drop`: A list of regular expressions to drop parts of plot filenames.\n",
    "\n",
    "pytest-rng:\n",
    "\n",
    "- `rng_salt`: A salt value to modify seeds."
   ]
  },
  {
   "cell_type": "code",
   "execution_count": 40,
   "metadata": {
    "execution": {
     "iopub.execute_input": "2021-06-29T19:19:41.961699Z",
     "iopub.status.busy": "2021-06-29T19:19:41.961212Z",
     "iopub.status.idle": "2021-06-29T19:19:42.331846Z",
     "shell.execute_reply": "2021-06-29T19:19:42.331416Z"
    }
   },
   "outputs": [
    {
     "name": "stdout",
     "output_type": "stream",
     "text": [
      "[tool:pytest]\n",
      "addopts = -p nengo.tests.options --colors=yes\n",
      "norecursedirs =\n",
      "    .*\n",
      "    *.egg\n",
      "    build\n",
      "    dist\n",
      "    docs\n",
      "    subdir0\n",
      "    subdir1\n",
      "markers =\n",
      "    marker0: description of marker0\n",
      "    marker1: description of marker1\n",
      "xfail_strict = True\n",
      "filterwarnings =\n",
      "    ignore::UserWarning\n",
      "    error::ResourceWarning\n",
      "nengo_test_unsupported =\n",
      "    test_ensemble.py::test_encoders*\n",
      "        \"This backend does not support encoders\"\n",
      "allclose_tolerances =\n",
      "    test_ensemble.py::test_encoders* atol=0.01 rtol=0.05  # comment\n",
      "plt_dirname = nengo.plots\n",
      "plt_filename_drop =\n",
      "    ^nengo\\.\n",
      "rng_salt = v1.0.0\n"
     ]
    }
   ],
   "source": [
    "nengobones_yml = r\"\"\"\n",
    "setup_cfg:\n",
    "    pytest:\n",
    "        addopts:\n",
    "            - -p nengo.tests.options\n",
    "            - --colors=yes\n",
    "        xfail_strict: true\n",
    "        norecursedirs:\n",
    "            - subdir0\n",
    "            - subdir1\n",
    "        markers:\n",
    "            marker0: description of marker0\n",
    "            marker1: description of marker1\n",
    "        filterwarnings:\n",
    "            - ignore::UserWarning\n",
    "            - error::ResourceWarning\n",
    "        nengo_test_unsupported:\n",
    "            test_ensemble.py::test_encoders*:\n",
    "                This backend does not support encoders\n",
    "        allclose_tolerances:\n",
    "            - \"test_ensemble.py::test_encoders* atol=0.01 rtol=0.05  # comment\"\n",
    "        plt_dirname: nengo.plots\n",
    "        plt_filename_drop:\n",
    "            - \"^nengo\\\\.\"\n",
    "        rng_salt: v1.0.0\n",
    "\"\"\"\n",
    "write_yml(nengobones_yml)\n",
    "\n",
    "!bones-generate setup-cfg\n",
    "display_contents(\"setup.cfg\", sections=[\"[tool:pytest]\"])"
   ]
  },
  {
   "cell_type": "markdown",
   "metadata": {},
   "source": [
    "The `pylint` section has three options:\n",
    "\n",
    "- `ignore`: A list of filename patterns to ignore.\n",
    "- `disable`: A list of pylint rules to ignore (see\n",
    "  https://github.com/janjur/readable-pylint-messages). Note that a number of rules are\n",
    "  already disabled by default, and any rules specified here will be in addition to\n",
    "  those.\n",
    "- `known-third-party`: A list of third party modules (sometimes pylint will fail to\n",
    "  detect that a module is third-party, and then complain about the import order)."
   ]
  },
  {
   "cell_type": "code",
   "execution_count": 41,
   "metadata": {
    "execution": {
     "iopub.execute_input": "2021-06-29T19:19:42.339348Z",
     "iopub.status.busy": "2021-06-29T19:19:42.336282Z",
     "iopub.status.idle": "2021-06-29T19:19:42.704180Z",
     "shell.execute_reply": "2021-06-29T19:19:42.703752Z"
    }
   },
   "outputs": [
    {
     "name": "stdout",
     "output_type": "stream",
     "text": [
      "[pylint]\n",
      "ignore =\n",
      "    __init__.py,\n",
      "\n",
      "[pylint.messages]\n",
      "disable =\n",
      "    arguments-differ,\n",
      "    assignment-from-no-return,\n",
      "    attribute-defined-outside-init,\n",
      "    bad-continuation,\n",
      "    blacklisted-name,\n",
      "    comparison-with-callable,\n",
      "    duplicate-code,\n",
      "    fixme,\n",
      "    import-error,\n",
      "    invalid-name,\n",
      "    invalid-sequence-index,\n",
      "    len-as-condition,\n",
      "    literal-comparison,\n",
      "    no-else-raise,\n",
      "    no-else-return,\n",
      "    no-member,\n",
      "    no-name-in-module,\n",
      "    no-self-use,\n",
      "    not-an-iterable,\n",
      "    not-context-manager,\n",
      "    protected-access,\n",
      "    redefined-builtin,\n",
      "    stop-iteration-return,\n",
      "    too-few-public-methods,\n",
      "    too-many-arguments,\n",
      "    too-many-branches,\n",
      "    too-many-instance-attributes,\n",
      "    too-many-lines,\n",
      "    too-many-locals,\n",
      "    too-many-return-statements,\n",
      "    too-many-statements,\n",
      "    unexpected-keyword-arg,\n",
      "    unidiomatic-typecheck,\n",
      "    unsubscriptable-object,\n",
      "    unsupported-assignment-operation,\n",
      "    unused-argument,\n",
      "    empty-docstring,\n",
      "    unneeded-not,\n",
      "\n",
      "[pylint.imports]\n",
      "known-third-party =\n",
      "    matplotlib,\n",
      "    nengo,\n",
      "    numpy,\n",
      "    pytest,\n",
      "    scipy,\n"
     ]
    }
   ],
   "source": [
    "nengobones_yml = \"\"\"\n",
    "setup_cfg:\n",
    "    pylint:\n",
    "        ignore:\n",
    "            - __init__.py\n",
    "        disable:\n",
    "            - empty-docstring\n",
    "            - unneeded-not\n",
    "        known_third_party:\n",
    "            - scipy\n",
    "\"\"\"\n",
    "write_yml(nengobones_yml)\n",
    "\n",
    "!bones-generate setup-cfg\n",
    "display_contents(\n",
    "    \"setup.cfg\", sections=[\"[pylint]\", \"[pylint.messages]\", \"[pylint.imports]\"]\n",
    ")"
   ]
  },
  {
   "cell_type": "markdown",
   "metadata": {},
   "source": [
    "The `codespell` section has two options:\n",
    "\n",
    "- `skip`: A list of files to ignore.\n",
    "- `ignore_words`: A list of strings that we want to omit from spellchecking."
   ]
  },
  {
   "cell_type": "code",
   "execution_count": 42,
   "metadata": {
    "execution": {
     "iopub.execute_input": "2021-06-29T19:19:42.711617Z",
     "iopub.status.busy": "2021-06-29T19:19:42.708432Z",
     "iopub.status.idle": "2021-06-29T19:19:43.071221Z",
     "shell.execute_reply": "2021-06-29T19:19:43.070722Z"
    }
   },
   "outputs": [
    {
     "name": "stdout",
     "output_type": "stream",
     "text": [
      "[codespell]\n",
      "skip = ./build,*/_build,*-checkpoint.ipynb,./.eggs,./*.egg-info,./.git,*/_vendor,./.mypy_cache,filewitherrors.py\n",
      "ignore-words-list = notaword,stillnotaword\n"
     ]
    }
   ],
   "source": [
    "nengobones_yml = \"\"\"\n",
    "setup_cfg:\n",
    "    codespell:\n",
    "        skip:\n",
    "            - filewitherrors.py\n",
    "        ignore_words:\n",
    "            - notaword\n",
    "            - stillnotaword\n",
    "\"\"\"\n",
    "write_yml(nengobones_yml)\n",
    "\n",
    "!bones-generate setup-cfg\n",
    "display_contents(\"setup.cfg\", sections=[\"[codespell]\"])"
   ]
  },
  {
   "cell_type": "markdown",
   "metadata": {},
   "source": [
    "## setup.py config\n",
    "\n",
    "The setup.py template has a number of configuration options, and also makes use of some\n",
    "of the general config settings (`pkg_name`, `author`, `author_email`, `description`)."
   ]
  },
  {
   "cell_type": "code",
   "execution_count": 43,
   "metadata": {
    "execution": {
     "iopub.execute_input": "2021-06-29T19:19:43.075461Z",
     "iopub.status.busy": "2021-06-29T19:19:43.074965Z",
     "iopub.status.idle": "2021-06-29T19:19:43.451944Z",
     "shell.execute_reply": "2021-06-29T19:19:43.451484Z"
    }
   },
   "outputs": [
    {
     "name": "stdout",
     "output_type": "stream",
     "text": [
      "#!/usr/bin/env python\n",
      "\n",
      "# Automatically generated by nengo-bones, do not edit this file directly\n",
      "\n",
      "import io\n",
      "import pathlib\n",
      "import runpy\n",
      "\n",
      "try:\n",
      "    from setuptools import find_packages, setup\n",
      "except ImportError:\n",
      "    raise ImportError(\n",
      "        \"'setuptools' is required but not installed. To install it, \"\n",
      "        \"follow the instructions at \"\n",
      "        \"https://pip.pypa.io/en/stable/installing/#installing-with-get-pip-py\"\n",
      "    )\n",
      "\n",
      "\n",
      "def read(*filenames, **kwargs):\n",
      "    encoding = kwargs.get(\"encoding\", \"utf-8\")\n",
      "    sep = kwargs.get(\"sep\", \"\\n\")\n",
      "    buf = []\n",
      "    for filename in filenames:\n",
      "        with io.open(filename, encoding=encoding) as f:\n",
      "            buf.append(f.read())\n",
      "    return sep.join(buf)\n",
      "\n",
      "\n",
      "root = pathlib.Path(__file__).parent\n",
      "version = runpy.run_path(str(root / \"eg_package\" / \"version.py\"))[\"version\"]\n",
      "\n",
      "install_req = []\n",
      "docs_req = []\n",
      "optional_req = []\n",
      "tests_req = []\n",
      "\n",
      "setup(\n",
      "    name=\"eg-package\",\n",
      "    version=version,\n",
      "    author=\"Applied Brain Research\",\n",
      "    author_email=\"info@appliedbrainresearch.com\",\n",
      "    packages=find_packages(),\n",
      "    url=\"https://www.nengo.ai/eg-package\",\n",
      "    include_package_data=False,\n",
      "    license=\"Free for non-commercial use\",\n",
      "    description=\"\",\n",
      "    long_description=read(\"README.rst\", \"CHANGES.rst\"),\n",
      "    zip_safe=False,\n",
      "    install_requires=install_req,\n",
      "    extras_require={\n",
      "        \"all\": docs_req + optional_req + tests_req,\n",
      "        \"docs\": docs_req,\n",
      "        \"optional\": optional_req,\n",
      "        \"tests\": tests_req,\n",
      "    },\n",
      "    python_requires=\">=3.6\",\n",
      ")\n"
     ]
    }
   ],
   "source": [
    "nengobones_yml = \"\"\"\n",
    "setup_py: {}\n",
    "\"\"\"\n",
    "write_yml(nengobones_yml)\n",
    "\n",
    "!bones-generate setup-py\n",
    "display_contents(\"setup.py\")"
   ]
  },
  {
   "cell_type": "markdown",
   "metadata": {},
   "source": [
    "Package dependencies are defined in the `install_req` (the main dependencies required to\n",
    "use the package), `optional_req` (dependencies that aren't necessary but activate extra\n",
    "functionality), `docs_req` (requirements for building the documentation), and\n",
    "`tests_req` (requirements for running the test suite) fields."
   ]
  },
  {
   "cell_type": "code",
   "execution_count": 44,
   "metadata": {
    "execution": {
     "iopub.execute_input": "2021-06-29T19:19:43.457210Z",
     "iopub.status.busy": "2021-06-29T19:19:43.456716Z",
     "iopub.status.idle": "2021-06-29T19:19:43.835640Z",
     "shell.execute_reply": "2021-06-29T19:19:43.836289Z"
    }
   },
   "outputs": [
    {
     "name": "stdout",
     "output_type": "stream",
     "text": [
      "install_req = [\n",
      "    \"package0\",\n",
      "    \"package1\",\n",
      "optional_req = [\n",
      "    \"package2\",\n",
      "    \"package3\",\n",
      "docs_req = [\n",
      "    \"package4\",\n",
      "    \"package5\",\n",
      "tests_req = [\n",
      "    \"package6\",\n",
      "    \"package7\",\n"
     ]
    }
   ],
   "source": [
    "nengobones_yml = \"\"\"\n",
    "setup_py:\n",
    "    install_req:\n",
    "        - package0\n",
    "        - package1\n",
    "    optional_req:\n",
    "        - package2\n",
    "        - package3\n",
    "    docs_req:\n",
    "        - package4\n",
    "        - package5\n",
    "    tests_req:\n",
    "        - package6\n",
    "        - package7\n",
    "\"\"\"\n",
    "write_yml(nengobones_yml)\n",
    "\n",
    "!bones-generate setup-py\n",
    "display_contents(\n",
    "    \"setup.py\", sections=[\"install_req\", \"optional_req\", \"docs_req\", \"tests_req\"]\n",
    ")"
   ]
  },
  {
   "cell_type": "markdown",
   "metadata": {},
   "source": [
    "There are a number of options that will be passed to the `setup` function:\n",
    "\n",
    "- `url`: A link to the project's homepage (defaults to nengo.ai/my-package).\n",
    "- `python_requires`: Python version requirement for this package\n",
    "  (defaults to `'>={{ min_python }}'`).\n",
    "- `include_package_data`: Whether or not to include files listed in `MANIFEST.in` in the\n",
    "  installation (defaults to False).\n",
    "- `package_data`: Mapping of extra data files to include in installation (not specified\n",
    "  by `MANIFEST.in`).\n",
    "- `classifiers`: List of\n",
    "  [Trove classifiers](https://pypi.org/pypi?%3Aaction=list_classifiers).\n",
    "- `entry_points`: Dictionary of entry points to make available.\n",
    "\n",
    "See the [distutils](https://docs.python.org/3.6/distutils/apiref.html) and\n",
    "[setuptools](https://setuptools.readthedocs.io/en/latest/userguide/keywords.html)\n",
    "documentation for more details on these options."
   ]
  },
  {
   "cell_type": "code",
   "execution_count": 45,
   "metadata": {
    "execution": {
     "iopub.execute_input": "2021-06-29T19:19:43.841732Z",
     "iopub.status.busy": "2021-06-29T19:19:43.840431Z",
     "iopub.status.idle": "2021-06-29T19:19:44.221601Z",
     "shell.execute_reply": "2021-06-29T19:19:44.221156Z"
    }
   },
   "outputs": [
    {
     "name": "stdout",
     "output_type": "stream",
     "text": [
      "setup(\n",
      "    name=\"eg-package\",\n",
      "    version=version,\n",
      "    author=\"Applied Brain Research\",\n",
      "    author_email=\"info@appliedbrainresearch.com\",\n",
      "    packages=find_packages(),\n",
      "    url=\"https://github.com/org/my-package\",\n",
      "    include_package_data=True,\n",
      "    license=\"Free for non-commercial use\",\n",
      "    description=\"\",\n",
      "    long_description=read(\"README.rst\", \"CHANGES.rst\"),\n",
      "    zip_safe=False,\n",
      "    install_requires=install_req,\n",
      "    extras_require={\n",
      "        \"all\": docs_req + optional_req + tests_req,\n",
      "        \"docs\": docs_req,\n",
      "        \"optional\": optional_req,\n",
      "        \"tests\": tests_req,\n",
      "    },\n",
      "    python_requires=\">=3.4,<3.9\",\n",
      "    package_data={\n",
      "        \"pkg\": [\n",
      "            \"file0\",\n",
      "            \"file1\",\n",
      "        ],\n",
      "    },\n",
      "    classifiers=[\n",
      "        \"Development Status :: 3 - Alpha\",\n",
      "        \"Framework :: Nengo\",\n",
      "    ],\n",
      "    entry_points={\n",
      "        \"nengo.backends\": [\n",
      "            \"my_backend = my_backend:Simulator\",\n",
      "        ],\n",
      "        \"console_scripts\": [\n",
      "            \"my-script = my_project.file:function\",\n",
      "        ],\n",
      "    },\n"
     ]
    }
   ],
   "source": [
    "nengobones_yml = \"\"\"\n",
    "setup_py:\n",
    "    url: https://github.com/org/my-package\n",
    "    python_requires: \">=3.4,<3.9\"\n",
    "    include_package_data: true\n",
    "    package_data:\n",
    "        pkg:\n",
    "            - file0\n",
    "            - file1\n",
    "    classifiers:\n",
    "        - \"Development Status :: 3 - Alpha\"\n",
    "        - \"Framework :: Nengo\"\n",
    "    entry_points:\n",
    "        nengo.backends:\n",
    "            - my_backend = my_backend:Simulator\n",
    "        console_scripts:\n",
    "            - my-script = my_project.file:function\n",
    "\"\"\"\n",
    "write_yml(nengobones_yml)\n",
    "\n",
    "!bones-generate setup-py\n",
    "display_contents(\"setup.py\", sections=[\"setup\"])"
   ]
  },
  {
   "cell_type": "markdown",
   "metadata": {},
   "source": [
    "## docs/conf.py config\n",
    "\n",
    "The `docs/conf.py` file contains settings controlling Sphinx documentation. It makes use\n",
    "of several general configuration option (`pkg_name`, `project_name`, `author`,\n",
    "`copyright_start`, `copyright_end`)."
   ]
  },
  {
   "cell_type": "code",
   "execution_count": 46,
   "metadata": {
    "execution": {
     "iopub.execute_input": "2021-06-29T19:19:44.228474Z",
     "iopub.status.busy": "2021-06-29T19:19:44.225806Z",
     "iopub.status.idle": "2021-06-29T19:19:44.608281Z",
     "shell.execute_reply": "2021-06-29T19:19:44.608671Z"
    }
   },
   "outputs": [
    {
     "name": "stdout",
     "output_type": "stream",
     "text": [
      "# -*- coding: utf-8 -*-\n",
      "#\n",
      "# Automatically generated by nengo-bones, do not edit this file directly\n",
      "\n",
      "import pathlib\n",
      "\n",
      "import eg_package\n",
      "\n",
      "extensions = [\n",
      "    \"sphinx.ext.autodoc\",\n",
      "    \"sphinx.ext.autosummary\",\n",
      "    \"sphinx.ext.doctest\",\n",
      "    \"sphinx.ext.githubpages\",\n",
      "    \"sphinx.ext.intersphinx\",\n",
      "    \"sphinx.ext.mathjax\",\n",
      "    \"sphinx.ext.todo\",\n",
      "    \"nbsphinx\",\n",
      "    \"nengo_sphinx_theme\",\n",
      "    \"nengo_sphinx_theme.ext.backoff\",\n",
      "    \"nengo_sphinx_theme.ext.sourcelinks\",\n",
      "    \"notfound.extension\",\n",
      "    \"numpydoc\",\n",
      "]\n",
      "\n",
      "# -- sphinx.ext.autodoc\n",
      "autoclass_content = \"both\"  # class and __init__ docstrings are concatenated\n",
      "autodoc_default_options = {\"members\": None}\n",
      "autodoc_member_order = \"bysource\"  # default is alphabetical\n",
      "\n",
      "# -- sphinx.ext.doctest\n",
      "doctest_global_setup = \"\"\"\n",
      "import eg_package\n",
      "\"\"\"\n",
      "\n",
      "# -- sphinx.ext.intersphinx\n",
      "intersphinx_mapping = {\n",
      "    \"nengo\": (\"https://www.nengo.ai/nengo/\", None),\n",
      "    \"numpy\": (\"https://numpy.org/doc/stable\", None),\n",
      "    \"python\": (\"https://docs.python.org/3\", None),\n",
      "}\n",
      "\n",
      "# -- sphinx.ext.todo\n",
      "todo_include_todos = True\n",
      "\n",
      "# -- nbsphinx\n",
      "nbsphinx_timeout = -1\n",
      "\n",
      "# -- notfound.extension\n",
      "notfound_template = \"404.html\"\n",
      "notfound_urls_prefix = \"/eg-package/\"\n",
      "\n",
      "# -- numpydoc config\n",
      "numpydoc_show_class_members = False\n",
      "\n",
      "# -- nengo_sphinx_theme.ext.sourcelinks\n",
      "sourcelinks_module = \"eg_package\"\n",
      "sourcelinks_url = \"https://github.com/eg-org/eg-package\"\n",
      "\n",
      "# -- sphinx\n",
      "nitpicky = True\n",
      "exclude_patterns = [\n",
      "    \"_build\",\n",
      "    \"**/.ipynb_checkpoints\",\n",
      "]\n",
      "linkcheck_timeout = 30\n",
      "source_suffix = \".rst\"\n",
      "source_encoding = \"utf-8\"\n",
      "master_doc = \"index\"\n",
      "linkcheck_ignore = [r\"http://localhost:\\d+\"]\n",
      "linkcheck_anchors = True\n",
      "default_role = \"py:obj\"\n",
      "pygments_style = \"sphinx\"\n",
      "user_agent = \"eg_package\"\n",
      "\n",
      "project = \"Example Project\"\n",
      "authors = \"Applied Brain Research\"\n",
      "copyright = \"2021-2021 Applied Brain Research\"\n",
      "version = \".\".join(eg_package.__version__.split(\".\")[:2])  # Short X.Y version\n",
      "release = eg_package.__version__  # Full version, with tags\n",
      "\n",
      "# -- HTML output\n",
      "templates_path = [\"_templates\"]\n",
      "html_static_path = [\"_static\"]\n",
      "html_theme = \"nengo_sphinx_theme\"\n",
      "html_title = f\"Example Project {release} docs\"\n",
      "htmlhelp_basename = \"Example Project\"\n",
      "html_last_updated_fmt = \"\"  # Default output format (suppressed)\n",
      "html_show_sphinx = False\n",
      "html_favicon = str(pathlib.Path(\"_static\", \"favicon.ico\"))\n",
      "html_theme_options = {\n",
      "    \"nengo_logo\": \"general-full-light.svg\",\n",
      "    \"nengo_logo_color\": \"#a8acaf\",\n",
      "}\n"
     ]
    }
   ],
   "source": [
    "nengobones_yml = \"\"\"\n",
    "docs_conf_py: {}\n",
    "\"\"\"\n",
    "write_yml(nengobones_yml)\n",
    "\n",
    "!bones-generate docs-conf-py\n",
    "display_contents(\"docs/conf.py\")"
   ]
  },
  {
   "cell_type": "markdown",
   "metadata": {},
   "source": [
    "Extra Sphinx extensions can be added by setting the `extensions` config option:"
   ]
  },
  {
   "cell_type": "code",
   "execution_count": 47,
   "metadata": {
    "execution": {
     "iopub.execute_input": "2021-06-29T19:19:44.615733Z",
     "iopub.status.busy": "2021-06-29T19:19:44.612892Z",
     "iopub.status.idle": "2021-06-29T19:19:44.995297Z",
     "shell.execute_reply": "2021-06-29T19:19:44.995678Z"
    }
   },
   "outputs": [
    {
     "name": "stdout",
     "output_type": "stream",
     "text": [
      "extensions = [\n",
      "    \"sphinx.ext.autodoc\",\n",
      "    \"sphinx.ext.autosummary\",\n",
      "    \"sphinx.ext.doctest\",\n",
      "    \"sphinx.ext.githubpages\",\n",
      "    \"sphinx.ext.intersphinx\",\n",
      "    \"sphinx.ext.mathjax\",\n",
      "    \"sphinx.ext.todo\",\n",
      "    \"nbsphinx\",\n",
      "    \"nengo_sphinx_theme\",\n",
      "    \"nengo_sphinx_theme.ext.backoff\",\n",
      "    \"nengo_sphinx_theme.ext.sourcelinks\",\n",
      "    \"notfound.extension\",\n",
      "    \"numpydoc\",\n",
      "    \"a_sphinx_extension\",\n",
      "    \"another_sphinx_extension\",\n"
     ]
    }
   ],
   "source": [
    "nengobones_yml = \"\"\"\n",
    "docs_conf_py:\n",
    "    extensions:\n",
    "        - a_sphinx_extension\n",
    "        - another_sphinx_extension\n",
    "\"\"\"\n",
    "write_yml(nengobones_yml)\n",
    "\n",
    "!bones-generate docs-conf-py\n",
    "display_contents(\"docs/conf.py\", sections=[\"extensions\"])"
   ]
  },
  {
   "cell_type": "markdown",
   "metadata": {},
   "source": [
    "Extra intersphinx mappings (for linking to documentation in other projects) can be added\n",
    "by setting the `intersphinx_mapping` config option, which is a mapping from package\n",
    "names to documentation URLs (the linked documentations must also be generated by\n",
    "Sphinx)."
   ]
  },
  {
   "cell_type": "code",
   "execution_count": 48,
   "metadata": {
    "execution": {
     "iopub.execute_input": "2021-06-29T19:19:45.000754Z",
     "iopub.status.busy": "2021-06-29T19:19:45.000014Z",
     "iopub.status.idle": "2021-06-29T19:19:45.385360Z",
     "shell.execute_reply": "2021-06-29T19:19:45.385776Z"
    }
   },
   "outputs": [
    {
     "name": "stdout",
     "output_type": "stream",
     "text": [
      "intersphinx_mapping = {\n",
      "    \"nengo\": (\"https://www.nengo.ai/nengo/\", None),\n",
      "    \"numpy\": (\"https://numpy.org/doc/stable\", None),\n",
      "    \"python\": (\"https://docs.python.org/3\", None),\n",
      "    \"scipy\": (\"https://docs.scipy.org/doc/scipy/reference\", None),\n",
      "    \"sklearn\": (\"https://scikit-learn.org/dev\", None),\n"
     ]
    }
   ],
   "source": [
    "nengobones_yml = \"\"\"\n",
    "docs_conf_py:\n",
    "    intersphinx_mapping:\n",
    "        scipy: https://docs.scipy.org/doc/scipy/reference\n",
    "        sklearn: https://scikit-learn.org/dev\n",
    "\"\"\"\n",
    "write_yml(nengobones_yml)\n",
    "\n",
    "!bones-generate docs-conf-py\n",
    "display_contents(\"docs/conf.py\", sections=[\"intersphinx_mapping\"])"
   ]
  },
  {
   "cell_type": "markdown",
   "metadata": {},
   "source": [
    "The `exclude_patterns` config option is a list of file/directory name patterns that\n",
    "should not be included in the documentation rendering."
   ]
  },
  {
   "cell_type": "code",
   "execution_count": 49,
   "metadata": {
    "execution": {
     "iopub.execute_input": "2021-06-29T19:19:45.391158Z",
     "iopub.status.busy": "2021-06-29T19:19:45.390373Z",
     "iopub.status.idle": "2021-06-29T19:19:45.775804Z",
     "shell.execute_reply": "2021-06-29T19:19:45.775365Z"
    }
   },
   "outputs": [
    {
     "name": "stdout",
     "output_type": "stream",
     "text": [
      "exclude_patterns = [\n",
      "    \"_build\",\n",
      "    \"**/.ipynb_checkpoints\",\n",
      "    \"a-file.py\",\n",
      "    \"subdir\",\n"
     ]
    }
   ],
   "source": [
    "nengobones_yml = \"\"\"\n",
    "docs_conf_py:\n",
    "    exclude_patterns:\n",
    "        - a-file.py\n",
    "        - subdir\n",
    "\"\"\"\n",
    "write_yml(nengobones_yml)\n",
    "\n",
    "!bones-generate docs-conf-py\n",
    "display_contents(\"docs/conf.py\", sections=[\"exclude_patterns\"])"
   ]
  },
  {
   "cell_type": "markdown",
   "metadata": {},
   "source": [
    "The `nengo_logo` config option contains the name of the logo image that will be rendered\n",
    "in the sidebar. The image filename refers to the\n",
    "[nengo/design](https://www.nengo.ai/design) assets. The default is\n",
    "`general-full-light.svg`, which refers to\n",
    "[this logo](https://www.nengo.ai/design/_images/general-full-light.svg)."
   ]
  },
  {
   "cell_type": "code",
   "execution_count": 50,
   "metadata": {
    "execution": {
     "iopub.execute_input": "2021-06-29T19:19:45.780823Z",
     "iopub.status.busy": "2021-06-29T19:19:45.779971Z",
     "iopub.status.idle": "2021-06-29T19:19:46.165410Z",
     "shell.execute_reply": "2021-06-29T19:19:46.164965Z"
    }
   },
   "outputs": [
    {
     "name": "stdout",
     "output_type": "stream",
     "text": [
      "html_theme_options = {\n",
      "    \"nengo_logo\": \"nengo-dl-full-light.svg\",\n",
      "    \"nengo_logo_color\": \"#a8acaf\",\n"
     ]
    }
   ],
   "source": [
    "nengobones_yml = \"\"\"\n",
    "docs_conf_py:\n",
    "    nengo_logo: nengo-dl-full-light.svg\n",
    "\"\"\"\n",
    "write_yml(nengobones_yml)\n",
    "\n",
    "!bones-generate docs-conf-py\n",
    "display_contents(\"docs/conf.py\", sections=[\"html_theme_options\"])"
   ]
  },
  {
   "cell_type": "markdown",
   "metadata": {},
   "source": [
    "The `nengo_logo_color` config option contains the primary color associated with the\n",
    "logo. This information should also be present in the\n",
    "[nengo/design](https://www.nengo.ai/design) repository. The default is `#a8acaf`, which\n",
    "is a neutral gray appropriate for projects without a primary color.\n",
    "\n",
    "Note that because `#` prefixes comments in YAML, you must enclose hex color entries in\n",
    "single or double quotes."
   ]
  },
  {
   "cell_type": "code",
   "execution_count": 51,
   "metadata": {
    "execution": {
     "iopub.execute_input": "2021-06-29T19:19:46.170066Z",
     "iopub.status.busy": "2021-06-29T19:19:46.169572Z",
     "iopub.status.idle": "2021-06-29T19:19:46.554692Z",
     "shell.execute_reply": "2021-06-29T19:19:46.555414Z"
    }
   },
   "outputs": [
    {
     "name": "stdout",
     "output_type": "stream",
     "text": [
      "html_theme_options = {\n",
      "    \"nengo_logo\": \"general-full-light.svg\",\n",
      "    \"nengo_logo_color\": \"#abcdef\",\n"
     ]
    }
   ],
   "source": [
    "nengobones_yml = \"\"\"\n",
    "docs_conf_py:\n",
    "    nengo_logo_color: '#abcdef'\n",
    "\"\"\"\n",
    "write_yml(nengobones_yml)\n",
    "\n",
    "!bones-generate docs-conf-py\n",
    "display_contents(\"docs/conf.py\", sections=[\"html_theme_options\"])"
   ]
  },
  {
   "cell_type": "markdown",
   "metadata": {},
   "source": [
    "The `analytics_id` config option contains a Google Analytics tracking ID that will\n",
    "enable Google Analytics tracking. It should look like `UA-000000-2`."
   ]
  },
  {
   "cell_type": "code",
   "execution_count": 52,
   "metadata": {
    "execution": {
     "iopub.execute_input": "2021-06-29T19:19:46.560262Z",
     "iopub.status.busy": "2021-06-29T19:19:46.559724Z",
     "iopub.status.idle": "2021-06-29T19:19:46.943301Z",
     "shell.execute_reply": "2021-06-29T19:19:46.942824Z"
    }
   },
   "outputs": [
    {
     "name": "stdout",
     "output_type": "stream",
     "text": [
      "html_theme_options = {\n",
      "    \"nengo_logo\": \"general-full-light.svg\",\n",
      "    \"nengo_logo_color\": \"#a8acaf\",\n",
      "    \"analytics_id\": \"UA-41658423-2\",\n"
     ]
    }
   ],
   "source": [
    "nengobones_yml = \"\"\"\n",
    "docs_conf_py:\n",
    "    analytics_id: UA-41658423-2\n",
    "\"\"\"\n",
    "write_yml(nengobones_yml)\n",
    "\n",
    "!bones-generate docs-conf-py\n",
    "display_contents(\"docs/conf.py\", sections=[\"html_theme_options\"])"
   ]
  },
  {
   "cell_type": "markdown",
   "metadata": {},
   "source": [
    "The `tagmanager_id` config option contains a Google Tag Manager container ID that will\n",
    "enable Google Tag Manager tracking. It should look like `GTM-XXXXXXX`. ABR-owned\n",
    "projects should use the key `GTM-KWCR2HN`."
   ]
  },
  {
   "cell_type": "code",
   "execution_count": 53,
   "metadata": {
    "execution": {
     "iopub.execute_input": "2021-06-29T19:19:46.950611Z",
     "iopub.status.busy": "2021-06-29T19:19:46.947535Z",
     "iopub.status.idle": "2021-06-29T19:19:47.336851Z",
     "shell.execute_reply": "2021-06-29T19:19:47.337572Z"
    }
   },
   "outputs": [
    {
     "name": "stdout",
     "output_type": "stream",
     "text": [
      "html_theme_options = {\n",
      "    \"nengo_logo\": \"general-full-light.svg\",\n",
      "    \"nengo_logo_color\": \"#a8acaf\",\n",
      "    \"tagmanager_id\": \"GTM-KWCR2HN\",\n"
     ]
    }
   ],
   "source": [
    "nengobones_yml = \"\"\"\n",
    "docs_conf_py:\n",
    "    tagmanager_id: GTM-KWCR2HN\n",
    "\"\"\"\n",
    "write_yml(nengobones_yml)\n",
    "\n",
    "!bones-generate docs-conf-py\n",
    "display_contents(\"docs/conf.py\", sections=[\"html_theme_options\"])"
   ]
  },
  {
   "cell_type": "markdown",
   "metadata": {},
   "source": [
    "The `doctest_setup` config option contains a list of Python statements that should be\n",
    "executed before the code in `.. testcode::` blocks, which are run with the\n",
    "`sphinx.ext.doctest` extension."
   ]
  },
  {
   "cell_type": "code",
   "execution_count": 54,
   "metadata": {
    "execution": {
     "iopub.execute_input": "2021-06-29T19:19:47.344987Z",
     "iopub.status.busy": "2021-06-29T19:19:47.341775Z",
     "iopub.status.idle": "2021-06-29T19:19:47.725717Z",
     "shell.execute_reply": "2021-06-29T19:19:47.726320Z"
    }
   },
   "outputs": [
    {
     "name": "stdout",
     "output_type": "stream",
     "text": [
      "# -*- coding: utf-8 -*-\n",
      "#\n",
      "# Automatically generated by nengo-bones, do not edit this file directly\n",
      "\n",
      "import pathlib\n",
      "\n",
      "import eg_package\n",
      "\n",
      "extensions = [\n",
      "    \"sphinx.ext.autodoc\",\n",
      "    \"sphinx.ext.autosummary\",\n",
      "    \"sphinx.ext.doctest\",\n",
      "    \"sphinx.ext.githubpages\",\n",
      "    \"sphinx.ext.intersphinx\",\n",
      "    \"sphinx.ext.mathjax\",\n",
      "    \"sphinx.ext.todo\",\n",
      "    \"nbsphinx\",\n",
      "    \"nengo_sphinx_theme\",\n",
      "    \"nengo_sphinx_theme.ext.backoff\",\n",
      "    \"nengo_sphinx_theme.ext.sourcelinks\",\n",
      "    \"notfound.extension\",\n",
      "    \"numpydoc\",\n",
      "]\n",
      "\n",
      "# -- sphinx.ext.autodoc\n",
      "autoclass_content = \"both\"  # class and __init__ docstrings are concatenated\n",
      "autodoc_default_options = {\"members\": None}\n",
      "autodoc_member_order = \"bysource\"  # default is alphabetical\n",
      "\n",
      "# -- sphinx.ext.doctest\n",
      "doctest_global_setup = \"\"\"\n",
      "import eg_package\n",
      "import nengo\n",
      "\"\"\"\n",
      "\n",
      "# -- sphinx.ext.intersphinx\n",
      "intersphinx_mapping = {\n",
      "    \"nengo\": (\"https://www.nengo.ai/nengo/\", None),\n",
      "    \"numpy\": (\"https://numpy.org/doc/stable\", None),\n",
      "    \"python\": (\"https://docs.python.org/3\", None),\n",
      "}\n",
      "\n",
      "# -- sphinx.ext.todo\n",
      "todo_include_todos = True\n",
      "\n",
      "# -- nbsphinx\n",
      "nbsphinx_timeout = -1\n",
      "\n",
      "# -- notfound.extension\n",
      "notfound_template = \"404.html\"\n",
      "notfound_urls_prefix = \"/eg-package/\"\n",
      "\n",
      "# -- numpydoc config\n",
      "numpydoc_show_class_members = False\n",
      "\n",
      "# -- nengo_sphinx_theme.ext.sourcelinks\n",
      "sourcelinks_module = \"eg_package\"\n",
      "sourcelinks_url = \"https://github.com/eg-org/eg-package\"\n",
      "\n",
      "# -- sphinx\n",
      "nitpicky = True\n",
      "exclude_patterns = [\n",
      "    \"_build\",\n",
      "    \"**/.ipynb_checkpoints\",\n",
      "]\n",
      "linkcheck_timeout = 30\n",
      "source_suffix = \".rst\"\n",
      "source_encoding = \"utf-8\"\n",
      "master_doc = \"index\"\n",
      "linkcheck_ignore = [r\"http://localhost:\\d+\"]\n",
      "linkcheck_anchors = True\n",
      "default_role = \"py:obj\"\n",
      "pygments_style = \"sphinx\"\n",
      "user_agent = \"eg_package\"\n",
      "\n",
      "project = \"Example Project\"\n",
      "authors = \"Applied Brain Research\"\n",
      "copyright = \"2021-2021 Applied Brain Research\"\n",
      "version = \".\".join(eg_package.__version__.split(\".\")[:2])  # Short X.Y version\n",
      "release = eg_package.__version__  # Full version, with tags\n",
      "\n",
      "# -- HTML output\n",
      "templates_path = [\"_templates\"]\n",
      "html_static_path = [\"_static\"]\n",
      "html_theme = \"nengo_sphinx_theme\"\n",
      "html_title = f\"Example Project {release} docs\"\n",
      "htmlhelp_basename = \"Example Project\"\n",
      "html_last_updated_fmt = \"\"  # Default output format (suppressed)\n",
      "html_show_sphinx = False\n",
      "html_favicon = str(pathlib.Path(\"_static\", \"favicon.ico\"))\n",
      "html_theme_options = {\n",
      "    \"nengo_logo\": \"general-full-light.svg\",\n",
      "    \"nengo_logo_color\": \"#a8acaf\",\n",
      "}\n"
     ]
    }
   ],
   "source": [
    "nengobones_yml = \"\"\"\n",
    "docs_conf_py:\n",
    "    doctest_setup:\n",
    "        - import nengo\n",
    "\"\"\"\n",
    "write_yml(nengobones_yml)\n",
    "\n",
    "!bones-generate docs-conf-py\n",
    "display_contents(\"docs/conf.py\")"
   ]
  },
  {
   "cell_type": "markdown",
   "metadata": {},
   "source": [
    "The `html_redirects` config option contains a mapping from original locations to new\n",
    "locations for generated HTML files that have been moved."
   ]
  },
  {
   "cell_type": "code",
   "execution_count": 55,
   "metadata": {
    "execution": {
     "iopub.execute_input": "2021-06-29T19:19:47.731501Z",
     "iopub.status.busy": "2021-06-29T19:19:47.730729Z",
     "iopub.status.idle": "2021-06-29T19:19:48.116541Z",
     "shell.execute_reply": "2021-06-29T19:19:48.116120Z"
    }
   },
   "outputs": [
    {
     "name": "stdout",
     "output_type": "stream",
     "text": [
      "extensions = [\n",
      "    \"sphinx.ext.autodoc\",\n",
      "    \"sphinx.ext.autosummary\",\n",
      "    \"sphinx.ext.doctest\",\n",
      "    \"sphinx.ext.githubpages\",\n",
      "    \"sphinx.ext.intersphinx\",\n",
      "    \"sphinx.ext.mathjax\",\n",
      "    \"sphinx.ext.todo\",\n",
      "    \"nbsphinx\",\n",
      "    \"nengo_sphinx_theme\",\n",
      "    \"nengo_sphinx_theme.ext.backoff\",\n",
      "    \"nengo_sphinx_theme.ext.redirects\",\n",
      "    \"nengo_sphinx_theme.ext.sourcelinks\",\n",
      "    \"notfound.extension\",\n",
      "    \"numpydoc\",\n",
      "html_redirects = [\n",
      "    (\"old_file.html\", \"new-file.html\"),\n"
     ]
    }
   ],
   "source": [
    "nengobones_yml = \"\"\"\n",
    "docs_conf_py:\n",
    "    html_redirects:\n",
    "        old_file.html: new-file.html\n",
    "\"\"\"\n",
    "write_yml(nengobones_yml)\n",
    "\n",
    "!bones-generate docs-conf-py\n",
    "display_contents(\"docs/conf.py\", sections=[\"extensions\", \"html_redirects\"])"
   ]
  },
  {
   "cell_type": "markdown",
   "metadata": {},
   "source": [
    "The `autoautosummary_change_modules` config option allows the module of\n",
    "classes/functions to be changed in `autoautosummary` or `automodule` directives. For\n",
    "example, this can be used so that `nengo.ensemble.Ensemble` shows up as `nengo.Ensemble`\n",
    "in the documentation. Note that this depends on the\n",
    "`nengo_sphinx_theme.ext.autoautosummary` extension."
   ]
  },
  {
   "cell_type": "code",
   "execution_count": 56,
   "metadata": {
    "execution": {
     "iopub.execute_input": "2021-06-29T19:19:48.123490Z",
     "iopub.status.busy": "2021-06-29T19:19:48.120851Z",
     "iopub.status.idle": "2021-06-29T19:19:48.507963Z",
     "shell.execute_reply": "2021-06-29T19:19:48.508350Z"
    }
   },
   "outputs": [
    {
     "name": "stdout",
     "output_type": "stream",
     "text": [
      "autoautosummary_change_modules = {\n",
      "    \"nengo\": [\n",
      "        \"nengo.ensemble.Ensemble\",\n",
      "        \"nengo.connection.Connection\",\n",
      "    ],\n",
      "    \"nengo.another_module\": [\n",
      "        \"nengo.some.function\",\n",
      "    ],\n"
     ]
    }
   ],
   "source": [
    "nengobones_yml = \"\"\"\n",
    "docs_conf_py:\n",
    "    autoautosummary_change_modules:\n",
    "        nengo:\n",
    "            - nengo.ensemble.Ensemble\n",
    "            - nengo.connection.Connection\n",
    "        nengo.another_module:\n",
    "            - nengo.some.function\n",
    "\"\"\"\n",
    "write_yml(nengobones_yml)\n",
    "\n",
    "!bones-generate docs-conf-py\n",
    "display_contents(\"docs/conf.py\", sections=[\"autoautosummary_change_modules\"])"
   ]
  },
  {
   "cell_type": "markdown",
   "metadata": {},
   "source": [
    "The `one_page` config option can be used for projects that include all of their\n",
    "documentation on a single index page."
   ]
  },
  {
   "cell_type": "code",
   "execution_count": 57,
   "metadata": {
    "execution": {
     "iopub.execute_input": "2021-06-29T19:19:48.513186Z",
     "iopub.status.busy": "2021-06-29T19:19:48.512699Z",
     "iopub.status.idle": "2021-06-29T19:19:48.906014Z",
     "shell.execute_reply": "2021-06-29T19:19:48.906424Z"
    }
   },
   "outputs": [
    {
     "name": "stdout",
     "output_type": "stream",
     "text": [
      "html_theme_options = {\n",
      "    \"nengo_logo\": \"general-full-light.svg\",\n",
      "    \"nengo_logo_color\": \"#a8acaf\",\n",
      "    \"one_page\": True,\n"
     ]
    }
   ],
   "source": [
    "nengobones_yml = \"\"\"\n",
    "docs_conf_py:\n",
    "    one_page: True\n",
    "\"\"\"\n",
    "write_yml(nengobones_yml)\n",
    "\n",
    "!bones-generate docs-conf-py\n",
    "display_contents(\"docs/conf.py\", sections=[\"html_theme_options\"])"
   ]
  },
  {
   "cell_type": "markdown",
   "metadata": {},
   "source": [
    "Finally, the `sphinx_options` config option can be used to set arbitrary options of the\n",
    "form `var = val` in the conf.py file."
   ]
  },
  {
   "cell_type": "code",
   "execution_count": 58,
   "metadata": {
    "execution": {
     "iopub.execute_input": "2021-06-29T19:19:48.913675Z",
     "iopub.status.busy": "2021-06-29T19:19:48.911052Z",
     "iopub.status.idle": "2021-06-29T19:19:49.295187Z",
     "shell.execute_reply": "2021-06-29T19:19:49.295849Z"
    }
   },
   "outputs": [
    {
     "name": "stdout",
     "output_type": "stream",
     "text": [
      "default_role = \"py:obj\"\n",
      "pygments_style = \"sphinx\"\n",
      "an_option = \"a string value\"\n",
      "another_option = [\"a\", \"list\", \"value\"]\n"
     ]
    }
   ],
   "source": [
    "nengobones_yml = \"\"\"\n",
    "docs_conf_py:\n",
    "    sphinx_options:\n",
    "        an_option: \"'a string value'\"\n",
    "        another_option: [\"a\", \"list\", \"value\"]\n",
    "\"\"\"\n",
    "write_yml(nengobones_yml)\n",
    "\n",
    "!bones-generate docs-conf-py\n",
    "display_contents(\n",
    "    \"docs/conf.py\",\n",
    "    sections=[\"default_role\", \"pygments_style\", \"an_option\", \"another_option\"],\n",
    ")"
   ]
  },
  {
   "cell_type": "markdown",
   "metadata": {},
   "source": [
    "## .pre-commit-config.yaml and pyproject.toml configs\n",
    "\n",
    "The `.pre-commit-config.yaml` and `pyproject.toml` files make it easy to install `black`\n",
    "as a pre-commit hook for your repository and run it on the correct files.\n",
    "\n",
    "The only configuration available for these files is an `exclude` option that accepts a\n",
    "list of patterns to exclude. Each entry is a regular expression. The list should be the\n",
    "same for both files.\n",
    "\n",
    "When you add these files to your `.nengobones.yml` file, you should also add something\n",
    "to your documentation to indicate that users should configure their editor to run Black\n",
    "automatically, and to install `pre-commit` and run `pre-commit install` inside the\n",
    "repository."
   ]
  },
  {
   "cell_type": "code",
   "execution_count": 59,
   "metadata": {
    "execution": {
     "iopub.execute_input": "2021-06-29T19:19:49.302864Z",
     "iopub.status.busy": "2021-06-29T19:19:49.299981Z",
     "iopub.status.idle": "2021-06-29T19:19:49.648680Z",
     "shell.execute_reply": "2021-06-29T19:19:49.649412Z"
    }
   },
   "outputs": [
    {
     "name": "stdout",
     "output_type": "stream",
     "text": [
      "# Automatically generated by nengo-bones, do not edit this file directly\n",
      "\n",
      "repos:\n",
      "-   repo: https://github.com/psf/black\n",
      "    rev: 20.8b0\n",
      "    hooks:\n",
      "    - id: black\n",
      "      files: \\.py$\n",
      "      exclude: |\n",
      "          (?x)(\n",
      "              project/ignore_me.py\n",
      "          )\n",
      "-   repo: https://github.com/pycqa/isort\n",
      "    rev: 5.6.4\n",
      "    hooks:\n",
      "    - id: isort\n",
      "      files: \\.py$\n"
     ]
    }
   ],
   "source": [
    "nengobones_yml = \"\"\"\n",
    "pre_commit_config_yaml:\n",
    "    exclude:\n",
    "        - project/ignore_me.py\n",
    "pyproject_toml:\n",
    "    exclude:\n",
    "        - project/ignore_me.py\n",
    "\"\"\"\n",
    "write_yml(nengobones_yml)\n",
    "\n",
    "!bones-generate pre-commit-config-yaml\n",
    "display_contents(\".pre-commit-config.yaml\")"
   ]
  },
  {
   "cell_type": "code",
   "execution_count": 60,
   "metadata": {
    "execution": {
     "iopub.execute_input": "2021-06-29T19:19:49.656771Z",
     "iopub.status.busy": "2021-06-29T19:19:49.653287Z",
     "iopub.status.idle": "2021-06-29T19:19:50.003062Z",
     "shell.execute_reply": "2021-06-29T19:19:50.002552Z"
    }
   },
   "outputs": [
    {
     "name": "stdout",
     "output_type": "stream",
     "text": [
      "# Automatically generated by nengo-bones, do not edit this file directly\n",
      "\n",
      "[build-system]\n",
      "requires = [\"setuptools\", \"wheel\"]\n",
      "\n",
      "[tool.black]\n",
      "target-version = ['py36']\n",
      "exclude = '''\n",
      "(\n",
      "    project/ignore_me.py\n",
      ")\n",
      "'''\n",
      "\n",
      "[tool.isort]\n",
      "profile = \"black\"\n",
      "src_paths = [\"eg_package\"]\n"
     ]
    }
   ],
   "source": [
    "!bones-generate pyproject-toml\n",
    "display_contents(\"pyproject.toml\")"
   ]
  },
  {
   "cell_type": "markdown",
   "metadata": {},
   "source": [
    "## py.typed config\n",
    "\n",
    "The `py.typed` file lets other Python packages know that your package has type hints.\n",
    "The file has no contents, so there is nothing to configure,\n",
    "but we use the presence of this config section\n",
    "to generate the file and modify other templates,\n",
    "such as adding a `mypy` check in `.ci/static.sh`.\n",
    "See [PEP-561](https://www.python.org/dev/peps/pep-0561/) for more context."
   ]
  },
  {
   "cell_type": "code",
   "execution_count": 61,
   "metadata": {
    "execution": {
     "iopub.execute_input": "2021-06-29T19:19:50.008231Z",
     "iopub.status.busy": "2021-06-29T19:19:50.007467Z",
     "iopub.status.idle": "2021-06-29T19:19:50.361204Z",
     "shell.execute_reply": "2021-06-29T19:19:50.360781Z"
    }
   },
   "outputs": [
    {
     "data": {
      "text/plain": [
       "[PosixPath('eg_package/py.typed')]"
      ]
     },
     "execution_count": 61,
     "metadata": {},
     "output_type": "execute_result"
    }
   ],
   "source": [
    "nengobones_yml = \"\"\"\n",
    "py_typed: {}\n",
    "\"\"\"\n",
    "write_yml(nengobones_yml)\n",
    "\n",
    "!bones-generate py-typed\n",
    "list(pathlib.Path(\"eg_package\").iterdir())"
   ]
  },
  {
   "cell_type": "markdown",
   "metadata": {},
   "source": [
    "## version.py config\n",
    "\n",
    "The ``version.py`` file is used to store version information about the package.\n",
    "It supports both [Semantic](https://semver.org/) and [Calendar](https://calver.org/)\n",
    "versioning (controlled by the ``type`` option). For semantic versioning the user\n",
    "should specify the ``major``, ``minor``, and ``patch`` options.\n",
    "For both types the user should specify the ``release`` option, which should be ``True``\n",
    "for releases and ``False`` otherwise."
   ]
  },
  {
   "cell_type": "code",
   "execution_count": 62,
   "metadata": {
    "execution": {
     "iopub.execute_input": "2021-06-29T19:19:50.366117Z",
     "iopub.status.busy": "2021-06-29T19:19:50.365369Z",
     "iopub.status.idle": "2021-06-29T19:19:50.725025Z",
     "shell.execute_reply": "2021-06-29T19:19:50.724603Z"
    }
   },
   "outputs": [
    {
     "name": "stdout",
     "output_type": "stream",
     "text": [
      "1.2.3\n"
     ]
    }
   ],
   "source": [
    "nengobones_yml = \"\"\"\n",
    "version_py:\n",
    "    type: semver\n",
    "    major: 1\n",
    "    minor: 2\n",
    "    patch: 3\n",
    "    release: true\n",
    "\"\"\"\n",
    "write_yml(nengobones_yml)\n",
    "\n",
    "!bones-generate version-py\n",
    "from eg_package import version  # pylint: disable=wrong-import-order\n",
    "\n",
    "print(version.version)"
   ]
  },
  {
   "cell_type": "code",
   "execution_count": 63,
   "metadata": {
    "execution": {
     "iopub.execute_input": "2021-06-29T19:19:50.730005Z",
     "iopub.status.busy": "2021-06-29T19:19:50.729273Z",
     "iopub.status.idle": "2021-06-29T19:19:51.089010Z",
     "shell.execute_reply": "2021-06-29T19:19:51.089441Z"
    }
   },
   "outputs": [
    {
     "name": "stdout",
     "output_type": "stream",
     "text": [
      "21.6.dev0\n"
     ]
    }
   ],
   "source": [
    "nengobones_yml = \"\"\"\n",
    "version_py:\n",
    "    type: calver\n",
    "    release: false\n",
    "\"\"\"\n",
    "write_yml(nengobones_yml)\n",
    "\n",
    "!bones-generate version-py\n",
    "reload(version)\n",
    "print(version.version)"
   ]
  },
  {
   "cell_type": "markdown",
   "metadata": {},
   "source": [
    "---"
   ]
  },
  {
   "cell_type": "code",
   "execution_count": 64,
   "metadata": {
    "execution": {
     "iopub.execute_input": "2021-06-29T19:19:51.094643Z",
     "iopub.status.busy": "2021-06-29T19:19:51.093723Z",
     "iopub.status.idle": "2021-06-29T19:19:51.097310Z",
     "shell.execute_reply": "2021-06-29T19:19:51.096638Z"
    }
   },
   "outputs": [],
   "source": [
    "# clean up the temporary files generated by this notebook\n",
    "\n",
    "files = list(nengo_bones.all_files) + [\n",
    "    \".nengobones.yml\",\n",
    "    \"test.sh\",\n",
    "    \"test2.sh\",\n",
    "    \"static.sh\",\n",
    "]\n",
    "\n",
    "for file in files:\n",
    "    path = pathlib.Path(file)\n",
    "    if path.exists():\n",
    "        path.unlink()"
   ]
  }
 ],
 "metadata": {
  "language_info": {
   "codemirror_mode": {
    "name": "ipython",
    "version": 3
   },
   "file_extension": ".py",
   "mimetype": "text/x-python",
   "name": "python",
   "nbconvert_exporter": "python",
   "pygments_lexer": "ipython3",
   "version": "3.7.1"
  }
 },
 "nbformat": 4,
 "nbformat_minor": 2
}
